{
 "cells": [
  {
   "cell_type": "markdown",
   "id": "332608e7",
   "metadata": {},
   "source": [
    "<h1 style=\"text-align: center;\">Recording WAV Files With Python</h1>"
   ]
  },
  {
   "cell_type": "markdown",
   "id": "d0433c6d",
   "metadata": {},
   "source": [
    "---"
   ]
  },
  {
   "cell_type": "markdown",
   "id": "0b5d2656",
   "metadata": {},
   "source": [
    "To record audio we will be using the sounddevice library along with the scipy library which you can in stall by running the following commands:  \n",
    "`python3 -m pip install sounddevice`   \n",
    "`python3 -m pip install scipy`   \n",
    "We will also need to install the PortAudio library onto our Nano:  \n",
    "`sudo apt install libportaudio2`"
   ]
  },
  {
   "cell_type": "code",
   "execution_count": 1,
   "id": "2e500e9c",
   "metadata": {},
   "outputs": [],
   "source": [
    "import sounddevice as sd\n",
    "from scipy.io.wavfile import write"
   ]
  },
  {
   "cell_type": "markdown",
   "id": "346a6557",
   "metadata": {},
   "source": [
    "Next we must declare the the sampling frequency of the audio along with the recording duration. We will set the sampling frequency to be 44100"
   ]
  },
  {
   "cell_type": "code",
   "execution_count": 2,
   "id": "ed3a6ca1",
   "metadata": {},
   "outputs": [],
   "source": [
    "freq = 44100\n",
    "\n",
    "duration = 5"
   ]
  },
  {
   "cell_type": "markdown",
   "id": "f52ef8b4",
   "metadata": {},
   "source": [
    "We will then record our audio using the `rec()` function from the `sounddevice` library which will save the audio as a Numpy array. We will provide the `rec()` function with the number of samples we want, the sample rate, and the number of audio channels. The number of samples is calculated by multiplying the duration by the frequency. The microphone we use records two channel audio, so we set the channels to 2.   \n",
    "We will use the `wait()` function to record the audio for the given number of seconds."
   ]
  },
  {
   "cell_type": "code",
   "execution_count": null,
   "id": "df2496ab",
   "metadata": {},
   "outputs": [],
   "source": [
    "recording = sd.rec(int(duration * freq), samplerate=freq, channels=2)\n",
    "\n",
    "sd.wait()"
   ]
  },
  {
   "cell_type": "markdown",
   "id": "3c7f3ad6",
   "metadata": {},
   "source": [
    "Finaly we will use the `write()` function to convert the Numpy array to an audio file. We must provide the `write()` function with a filename for our audio file, the sampling frequency of the file, and the actuale data for the file."
   ]
  },
  {
   "cell_type": "code",
   "execution_count": null,
   "id": "8c8bc7af",
   "metadata": {},
   "outputs": [],
   "source": [
    "# This will convert the NumPy array to an audio\n",
    "# file with the given sampling frequency\n",
    "write(\"recording.wav\", freq, recording)"
   ]
  }
 ],
 "metadata": {
  "kernelspec": {
   "display_name": "Python 3",
   "language": "python",
   "name": "python3"
  },
  "language_info": {
   "codemirror_mode": {
    "name": "ipython",
    "version": 3
   },
   "file_extension": ".py",
   "mimetype": "text/x-python",
   "name": "python",
   "nbconvert_exporter": "python",
   "pygments_lexer": "ipython3",
   "version": "3.6.9"
  }
 },
 "nbformat": 4,
 "nbformat_minor": 5
}

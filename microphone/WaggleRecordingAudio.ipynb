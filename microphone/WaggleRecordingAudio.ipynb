{
 "cells": [
  {
   "cell_type": "code",
   "execution_count": 1,
   "id": "333d120d",
   "metadata": {},
   "outputs": [
    {
     "name": "stderr",
     "output_type": "stream",
     "text": [
      "using backwards compatible implementation of time_ns\n"
     ]
    }
   ],
   "source": [
    "from waggle.data.audio import Microphone\n",
    "import time\n",
    "import os"
   ]
  },
  {
   "cell_type": "markdown",
   "id": "c14286cf",
   "metadata": {},
   "source": [
    "## Records audio\n",
    "It records in 5 second intervals for 10 seconds and saves an \"amount\" amount of audio files. The save function can save in multiple formats "
   ]
  },
  {
   "cell_type": "code",
   "execution_count": 2,
   "id": "133ee747",
   "metadata": {},
   "outputs": [],
   "source": [
    "amount = 2 # how many times the microphone should record"
   ]
  },
  {
   "cell_type": "code",
   "execution_count": 3,
   "id": "307f6d75",
   "metadata": {},
   "outputs": [],
   "source": [
    "microphone = Microphone()\n",
    "\n",
    "num = 0\n",
    "while True:\n",
    "    sample = microphone.record(10)\n",
    "    sample.save(f\"audioSample{num}.wav\")\n",
    "    time.sleep(5)\n",
    "    \n",
    "    if num == amount - 1:\n",
    "        break\n",
    "        \n",
    "    num += 1"
   ]
  },
  {
   "cell_type": "markdown",
   "id": "ca3278c1",
   "metadata": {},
   "source": [
    "## Delete files\n",
    "Run the bottom code to delete the saved audio files in the directory this notebooks sits in"
   ]
  },
  {
   "cell_type": "code",
   "execution_count": 4,
   "id": "65b6dae4",
   "metadata": {},
   "outputs": [],
   "source": [
    "for x in range(amount):\n",
    "    os.unlink(f\"audioSample{x}.wav\")"
   ]
  },
  {
   "cell_type": "code",
   "execution_count": null,
   "id": "8d801405",
   "metadata": {},
   "outputs": [],
   "source": []
  }
 ],
 "metadata": {
  "kernelspec": {
   "display_name": "Python 3",
   "language": "python",
   "name": "python3"
  },
  "language_info": {
   "codemirror_mode": {
    "name": "ipython",
    "version": 3
   },
   "file_extension": ".py",
   "mimetype": "text/x-python",
   "name": "python",
   "nbconvert_exporter": "python",
   "pygments_lexer": "ipython3",
   "version": "3.6.9"
  }
 },
 "nbformat": 4,
 "nbformat_minor": 5
}

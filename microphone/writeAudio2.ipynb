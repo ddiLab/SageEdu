{
 "cells": [
  {
   "cell_type": "markdown",
   "id": "6767f6d2",
   "metadata": {},
   "source": [
    "#### Import the function to write files:"
   ]
  },
  {
   "cell_type": "code",
   "execution_count": 1,
   "id": "df039943",
   "metadata": {},
   "outputs": [],
   "source": [
    "from scipy.io.wavfile import write"
   ]
  },
  {
   "cell_type": "code",
   "execution_count": null,
   "id": "009850b0",
   "metadata": {},
   "outputs": [],
   "source": [
    "write()"
   ]
  }
 ],
 "metadata": {
  "kernelspec": {
   "display_name": "Python 3",
   "language": "python",
   "name": "python3"
  },
  "language_info": {
   "codemirror_mode": {
    "name": "ipython",
    "version": 3
   },
   "file_extension": ".py",
   "mimetype": "text/x-python",
   "name": "python",
   "nbconvert_exporter": "python",
   "pygments_lexer": "ipython3",
   "version": "3.6.9"
  }
 },
 "nbformat": 4,
 "nbformat_minor": 5
}

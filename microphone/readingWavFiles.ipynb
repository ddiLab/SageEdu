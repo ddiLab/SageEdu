{
 "cells": [
  {
   "cell_type": "markdown",
   "id": "881819f8",
   "metadata": {},
   "source": [
    "<h1 style=\"text-align: center;\">Reading WAV Files With Python</h1>"
   ]
  },
  {
   "cell_type": "markdown",
   "id": "634fc11a",
   "metadata": {},
   "source": [
    "---"
   ]
  },
  {
   "cell_type": "markdown",
   "id": "1c0a745e",
   "metadata": {},
   "source": [
    "<h2>Set Up</h2>"
   ]
  },
  {
   "cell_type": "markdown",
   "id": "b687ea9d",
   "metadata": {},
   "source": [
    "We will be using the `scipy` library in order to read our WAV files.\n",
    "We will be using `matplotlib` along with `numpy` to manipulat and plot the data from the WAV file.  \n",
    "Make sure you have these libraries installed. You can install them by running the following commands from the terminal:"
   ]
  },
  {
   "cell_type": "markdown",
   "id": "90f6231a",
   "metadata": {},
   "source": [
    "`python3 -m pip install scipy`  \n",
    "`python3 -m pip insatll matplotlib`"
   ]
  },
  {
   "cell_type": "code",
   "execution_count": 54,
   "id": "a9858688",
   "metadata": {},
   "outputs": [],
   "source": [
    "from scipy.io import wavfile\n",
    "import scipy.io\n",
    "import matplotlib.pyplot as plt\n",
    "import numpy as np"
   ]
  },
  {
   "cell_type": "markdown",
   "id": "d673a152",
   "metadata": {},
   "source": [
    "We will use `scipy`'s `read()` function to read in the sample rate and the actuale data of our WAV file.  \n",
    "The data of our WAV file is in the form of an array of numbers that represent the amplitude of the sound at the moment the sample was taking. The data can be a multi-dementional array if the WAV file contains recordings of multiple audio channels."
   ]
  },
  {
   "cell_type": "code",
   "execution_count": 55,
   "id": "12cbdfa8",
   "metadata": {},
   "outputs": [],
   "source": [
    "(samplerate, data) = wavfile.read('recording0.wav')"
   ]
  },
  {
   "cell_type": "markdown",
   "id": "191ae8ee",
   "metadata": {},
   "source": [
    "We can check how many chanels of sound are present simply by looking at the shape of the WAV file's data:"
   ]
  },
  {
   "cell_type": "code",
   "execution_count": 56,
   "id": "c8b1e995",
   "metadata": {},
   "outputs": [
    {
     "name": "stdout",
     "output_type": "stream",
     "text": [
      "Number of channels = 2\n"
     ]
    }
   ],
   "source": [
    "print(f\"Number of channels = {data.shape[1]}\")"
   ]
  },
  {
   "cell_type": "markdown",
   "id": "a221f348",
   "metadata": {},
   "source": [
    "We can compute the length of the WAV file by dividing the number of samples in the data by the samplerate:"
   ]
  },
  {
   "cell_type": "code",
   "execution_count": 57,
   "id": "51c5686c",
   "metadata": {},
   "outputs": [
    {
     "name": "stdout",
     "output_type": "stream",
     "text": [
      "Length = 5.0s\n"
     ]
    }
   ],
   "source": [
    "length = data.shape[0] / samplerate\n",
    "print(f\"Length = {length}s\")"
   ]
  },
  {
   "cell_type": "markdown",
   "id": "86db58f5",
   "metadata": {},
   "source": [
    "Next we will plot the WAV file's data in order to be able to see the soundwave.  \n",
    "We will first create an array that will act as our independent variable which is time. We can do this using the `numpy` function `linspace()`. The first parameter is the starting number, the second is the end number, and the third number is the number of steps in between. We can calculate the number of steps required by multiplying the sample rate by the length of the file:"
   ]
  },
  {
   "cell_type": "code",
   "execution_count": 58,
   "id": "7ea4d504",
   "metadata": {},
   "outputs": [],
   "source": [
    "time = np.linspace(0., length, data.shape[0])"
   ]
  },
  {
   "cell_type": "markdown",
   "id": "db691992",
   "metadata": {},
   "source": [
    "Now all that's left to do is plot the data against our time array:"
   ]
  },
  {
   "cell_type": "code",
   "execution_count": 59,
   "id": "82f2453c",
   "metadata": {},
   "outputs": [
    {
     "name": "stderr",
     "output_type": "stream",
     "text": [
      "/home/andrew/.local/lib/python3.6/site-packages/ipykernel_launcher.py:1: DeprecationWarning: object of type <class 'float'> cannot be safely interpreted as an integer.\n",
      "  \"\"\"Entry point for launching an IPython kernel.\n"
     ]
    },
    {
     "data": {
      "image/png": "[encoded data removed]",
      "text/plain": [
       "<matplotlib.figure.Figure at 0x7f840ea860>"
      ]
     },
     "metadata": {
      "needs_background": "light"
     },
     "output_type": "display_data"
    }
   ],
   "source": [
    "time = np.linspace(0., length, samplerate * length)\n",
    "plt.plot(time, data[:, 0])\n",
    "plt.xlabel(\"Time [s]\")\n",
    "plt.ylabel(\"Amplitude\")\n",
    "plt.show()"
   ]
  },
  {
   "cell_type": "code",
   "execution_count": 53,
   "id": "0f6b89d1",
   "metadata": {},
   "outputs": [],
   "source": [
    "import sounddevice as sd\n",
    "from scipy.io.wavfile import write\n",
    "\n",
    "# Sampling frequency\n",
    "freq = 44100\n",
    "\n",
    "# Recording duration\n",
    "duration = 5\n",
    "\n",
    "# Start recorder with the given values of \n",
    "# duration and sample frequency\n",
    "recording = sd.rec(int(duration * freq), \n",
    "                   samplerate=freq, channels=2)\n",
    "\n",
    "# Record audio for the given number of seconds\n",
    "sd.wait()\n",
    "\n",
    "# This will convert the NumPy array to an audio\n",
    "# file with the given sampling frequency\n",
    "write(\"recording0.wav\", freq, recording)"
   ]
  }
 ],
 "metadata": {
  "kernelspec": {
   "display_name": "Python 3",
   "language": "python",
   "name": "python3"
  },
  "language_info": {
   "codemirror_mode": {
    "name": "ipython",
    "version": 3
   },
   "file_extension": ".py",
   "mimetype": "text/x-python",
   "name": "python",
   "nbconvert_exporter": "python",
   "pygments_lexer": "ipython3",
   "version": "3.6.9"
  }
 },
 "nbformat": 4,
 "nbformat_minor": 5
}

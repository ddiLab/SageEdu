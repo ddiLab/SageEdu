{
 "cells": [
  {
   "cell_type": "markdown",
   "id": "c14286cf",
   "metadata": {},
   "source": [
    "## Records audio\n",
    "It records in 5 second intervals for 10 seconds and saves an \"amount\" amount of audio files. The save function can save in multiple formats "
   ]
  },
  {
   "cell_type": "code",
   "execution_count": 1,
   "id": "333d120d",
   "metadata": {},
   "outputs": [
    {
     "name": "stderr",
     "output_type": "stream",
     "text": [
      "using backwards compatible implementation of time_ns\n"
     ]
    }
   ],
   "source": [
    "from waggle.data.audio import Microphone\n",
    "import time"
   ]
  },
  {
   "cell_type": "code",
   "execution_count": 2,
   "id": "133ee747",
   "metadata": {},
   "outputs": [],
   "source": [
    "amount = 2 # how many times the microphone should record"
   ]
  },
  {
   "cell_type": "code",
   "execution_count": 3,
   "id": "307f6d75",
   "metadata": {},
   "outputs": [],
   "source": [
    "microphone = Microphone()\n",
    "\n",
    "num = 0\n",
    "while True:\n",
    "    sample = microphone.record(10)\n",
    "    sample.save(f\"audioSample{num}.wav\")\n",
    "    time.sleep(5)\n",
    "    \n",
    "    if num == amount - 1:\n",
    "        break\n",
    "        \n",
    "    num += 1"
   ]
  },
  {
   "cell_type": "markdown",
   "id": "60871ad5",
   "metadata": {},
   "source": [
    "## Access audio data\n",
    "Returns the data, timestamp, and samplerate of a singular audio file"
   ]
  },
  {
   "cell_type": "code",
   "execution_count": 4,
   "id": "b656fd18",
   "metadata": {},
   "outputs": [],
   "source": [
    "import soundfile\n",
    "from pathlib import Path"
   ]
  },
  {
   "cell_type": "code",
   "execution_count": 5,
   "id": "ddfd6ced",
   "metadata": {},
   "outputs": [
    {
     "name": "stdout",
     "output_type": "stream",
     "text": [
      "samplerate: 44100 \n",
      " timestamp: 1626823080680065724 \n",
      "data: [[0.00244141 0.00244141]\n",
      " [0.00219727 0.00219727]\n",
      " [0.00170898 0.00170898]\n",
      " ...\n",
      " [0.11328125 0.11328125]\n",
      " [0.1003418  0.1003418 ]\n",
      " [0.04772949 0.04772949]]\n"
     ]
    }
   ],
   "source": [
    "file = \"sample.wav\"\n",
    "data, samplerate = soundfile.read(file)\n",
    "timestamp = Path(file).stat().st_mtime_ns\n",
    "print(f'samplerate: {samplerate} \\n timestamp: {timestamp} \\ndata: {data}')"
   ]
  },
  {
   "cell_type": "markdown",
   "id": "67dee6b4",
   "metadata": {},
   "source": [
    "Returns the data, timestamp, and samplerate of multiple audio files within a directory"
   ]
  },
  {
   "cell_type": "code",
   "execution_count": 6,
   "id": "c6dcd77f",
   "metadata": {},
   "outputs": [],
   "source": [
    "from waggle.data.audio import AudioFolder"
   ]
  },
  {
   "cell_type": "code",
   "execution_count": 7,
   "id": "81aad470",
   "metadata": {},
   "outputs": [
    {
     "name": "stdout",
     "output_type": "stream",
     "text": [
      "/home/aldo/Sage/SageEdu/microphone/audioSample0.wav:\n",
      "samplerate: 44100 \n",
      " timestamp: 1626823080680065724 \n",
      "data: [[0.00244141 0.00244141]\n",
      " [0.00219727 0.00219727]\n",
      " [0.00170898 0.00170898]\n",
      " ...\n",
      " [0.11328125 0.11328125]\n",
      " [0.1003418  0.1003418 ]\n",
      " [0.04772949 0.04772949]]\n",
      "\n",
      "\n",
      "/home/aldo/Sage/SageEdu/microphone/audioSample1.wav:\n",
      "samplerate: 44100 \n",
      " timestamp: 1626823080680065724 \n",
      "data: [[0.00244141 0.00244141]\n",
      " [0.00219727 0.00219727]\n",
      " [0.00170898 0.00170898]\n",
      " ...\n",
      " [0.11328125 0.11328125]\n",
      " [0.1003418  0.1003418 ]\n",
      " [0.04772949 0.04772949]]\n",
      "\n",
      "\n",
      "/home/aldo/Sage/SageEdu/microphone/sample.wav:\n",
      "samplerate: 44100 \n",
      " timestamp: 1626823080680065724 \n",
      "data: [[0.00244141 0.00244141]\n",
      " [0.00219727 0.00219727]\n",
      " [0.00170898 0.00170898]\n",
      " ...\n",
      " [0.11328125 0.11328125]\n",
      " [0.1003418  0.1003418 ]\n",
      " [0.04772949 0.04772949]]\n",
      "\n",
      "\n",
      "/home/aldo/Sage/SageEdu/microphone/waves.wav:\n",
      "samplerate: 44100 \n",
      " timestamp: 1626823080680065724 \n",
      "data: [[0.00244141 0.00244141]\n",
      " [0.00219727 0.00219727]\n",
      " [0.00170898 0.00170898]\n",
      " ...\n",
      " [0.11328125 0.11328125]\n",
      " [0.1003418  0.1003418 ]\n",
      " [0.04772949 0.04772949]]\n",
      "\n",
      "\n"
     ]
    }
   ],
   "source": [
    "dataset = AudioFolder(\".\") # \".\" is the current directory\n",
    "\n",
    "x = 0\n",
    "for sample in dataset:\n",
    "    print(f\"{dataset.files[x]}:\")\n",
    "    print(f'samplerate: {samplerate} \\n timestamp: {timestamp} \\ndata: {data}\\n\\n')\n",
    "    x += 1"
   ]
  },
  {
   "cell_type": "markdown",
   "id": "d611d1b6",
   "metadata": {},
   "source": [
    "## Playback audio\n"
   ]
  },
  {
   "cell_type": "code",
   "execution_count": 8,
   "id": "40fb1ea6",
   "metadata": {},
   "outputs": [],
   "source": [
    "# for sample in dataset:\n",
    "#     process_data(sample.data) # could not get process_data to work"
   ]
  },
  {
   "cell_type": "markdown",
   "id": "ca3278c1",
   "metadata": {},
   "source": [
    "## Delete files\n",
    "Run the bottom code to delete the saved audio files in the directory this notebooks sits in"
   ]
  },
  {
   "cell_type": "code",
   "execution_count": 9,
   "id": "252d6759",
   "metadata": {},
   "outputs": [],
   "source": [
    "import os"
   ]
  },
  {
   "cell_type": "code",
   "execution_count": 10,
   "id": "65b6dae4",
   "metadata": {},
   "outputs": [],
   "source": [
    "for x in range(amount):\n",
    "    os.unlink(f\"audioSample{x}.wav\")"
   ]
  }
 ],
 "metadata": {
  "kernelspec": {
   "display_name": "Python 3",
   "language": "python",
   "name": "python3"
  },
  "language_info": {
   "codemirror_mode": {
    "name": "ipython",
    "version": 3
   },
   "file_extension": ".py",
   "mimetype": "text/x-python",
   "name": "python",
   "nbconvert_exporter": "python",
   "pygments_lexer": "ipython3",
   "version": "3.6.9"
  }
 },
 "nbformat": 4,
 "nbformat_minor": 5
}

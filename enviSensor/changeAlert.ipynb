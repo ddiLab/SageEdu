{
 "cells": [
  {
   "cell_type": "markdown",
   "id": "21df4aa4",
   "metadata": {},
   "source": [
    "# Abnormal Enviornment Detector"
   ]
  },
  {
   "cell_type": "code",
   "execution_count": 12,
   "id": "2169a34b",
   "metadata": {},
   "outputs": [],
   "source": [
    "import bme680\n",
    "import time\n",
    "import numpy as np\n",
    "from matplotlib import pyplot as plt\n",
    "\n",
    "sensor = bme680.BME680()\n",
    "\n",
    "sensor.set_humidity_oversample(bme680.OS_2X)\n",
    "sensor.set_pressure_oversample(bme680.OS_4X)\n",
    "sensor.set_temperature_oversample(bme680.OS_8X)\n",
    "sensor.set_filter(bme680.FILTER_SIZE_3)\n",
    "\n",
    "sensor.set_gas_status(bme680.ENABLE_GAS_MEAS)\n",
    "sensor.set_gas_heater_temperature(320)\n",
    "sensor.set_gas_heater_duration(150)\n",
    "sensor.select_gas_heater_profile(0)"
   ]
  },
  {
   "cell_type": "code",
   "execution_count": 15,
   "id": "f97a6b1c",
   "metadata": {},
   "outputs": [
    {
     "name": "stdout",
     "output_type": "stream",
     "text": [
      "27.6625\n",
      "997.9075\n",
      "61.777499999999996\n",
      "8465.76946560926\n"
     ]
    }
   ],
   "source": [
    "# Finding 'normal' values\n",
    "\n",
    "# number of minutes to calibrate\n",
    "cal_time = 5\n",
    "\n",
    "temp = []\n",
    "pres = []\n",
    "hum = []\n",
    "res = []\n",
    "\n",
    "for i in range(1, cal_time):\n",
    "    \n",
    "    if sensor.get_sensor_data():\n",
    "        temp.append(sensor.data.temperature)\n",
    "        pres.append(sensor.data.pressure)\n",
    "        hum.append(sensor.data.humidity)\n",
    "        \n",
    "        if sensor.data.heat_stable:\n",
    "            res.append(sensor.data.gas_resistance)\n",
    "            \n",
    "        else:\n",
    "            res.append(res[i-1])\n",
    "            \n",
    "    else:\n",
    "        temp.append(temp[i-1])\n",
    "        pres.append(pres[i-1])\n",
    "        hum.append(hum[i-1])\n",
    "    \n",
    "    time.sleep(60)\n",
    "\n",
    "avg_temp = np.average(temp)\n",
    "avg_pres = np.average(pres)\n",
    "avg_hum = np.average(hum)\n",
    "avg_res = np.average(res)\n",
    "\n",
    "print(avg_temp)\n",
    "print(avg_pres)\n",
    "print(avg_hum)\n",
    "print(avg_res)"
   ]
  },
  {
   "cell_type": "code",
   "execution_count": 18,
   "id": "6ab8b8db",
   "metadata": {},
   "outputs": [
    {
     "name": "stdout",
     "output_type": "stream",
     "text": [
      "Humidity is abnormal: -9.323500000000003\n",
      "Temperature is abnormal: -2.1374999999999993\n",
      "Temperature is normal\n",
      "Humidity is normal\n",
      "Temperature is abnormal: -2.1274999999999977\n",
      "Humidity is abnormal: -6.224499999999999\n",
      "Humidity is normal\n",
      "Temperature is normal\n",
      "Humidity is abnormal: -6.295499999999997\n",
      "Temperature is abnormal: -2.0075000000000003\n",
      "Pressure is abnormal: 967.8075\n",
      "Pressure is normal\n",
      "Pressure is abnormal: 965.6475\n",
      "Pressure is normal\n",
      "Pressure is abnormal: 964.4275\n",
      "Pressure is normal\n",
      "Humidity is normal\n",
      "Humidity is abnormal: -6.914499999999997\n",
      "Humidity is normal\n",
      "Humidity is abnormal: 5.069499999999998\n",
      "Humidity is normal\n",
      "Temperature is normal\n"
     ]
    },
    {
     "ename": "KeyboardInterrupt",
     "evalue": "",
     "output_type": "error",
     "traceback": [
      "\u001b[0;31m---------------------------------------------------------------------------\u001b[0m",
      "\u001b[0;31mKeyboardInterrupt\u001b[0m                         Traceback (most recent call last)",
      "\u001b[0;32m<ipython-input-18-662075f6e3c6>\u001b[0m in \u001b[0;36m<module>\u001b[0;34m\u001b[0m\n\u001b[1;32m     57\u001b[0m                 \u001b[0mprint\u001b[0m\u001b[0;34m(\u001b[0m\u001b[0;34m\"Gas Resistance is normal\"\u001b[0m\u001b[0;34m)\u001b[0m\u001b[0;34m\u001b[0m\u001b[0;34m\u001b[0m\u001b[0m\n\u001b[1;32m     58\u001b[0m \u001b[0;34m\u001b[0m\u001b[0m\n\u001b[0;32m---> 59\u001b[0;31m     \u001b[0mtime\u001b[0m\u001b[0;34m.\u001b[0m\u001b[0msleep\u001b[0m\u001b[0;34m(\u001b[0m\u001b[0;36m1\u001b[0m\u001b[0;34m)\u001b[0m\u001b[0;34m\u001b[0m\u001b[0;34m\u001b[0m\u001b[0m\n\u001b[0m",
      "\u001b[0;31mKeyboardInterrupt\u001b[0m: "
     ]
    }
   ],
   "source": [
    "t_alert = False\n",
    "p_alert = False\n",
    "h_alert = False\n",
    "r_alert = False\n",
    "\n",
    "while True:\n",
    "    \n",
    "    if sensor.get_sensor_data():\n",
    "        \n",
    "        ########## Temperature ##########\n",
    "        t = sensor.data.temperature\n",
    "        t_out = t < avg_temp - 2 or t > avg_temp + 2\n",
    "        \n",
    "        if t_out and not t_alert:\n",
    "            t_alert = True\n",
    "            print(\"Temperature is abnormal: \" + str(avg_temp - t))\n",
    "            \n",
    "        elif not t_out and t_alert:\n",
    "            t_alert = False\n",
    "            print(\"Temperature is normal\")\n",
    "            \n",
    "        ########## Air Presure ##########\n",
    "        p = sensor.data.pressure\n",
    "        p_out = p < avg_pres - 5 or p > avg_pres + 5\n",
    "        \n",
    "        if p_out and not p_alert:\n",
    "            p_alert = True\n",
    "            print(\"Pressure is abnormal: \" + str(avg_pres - t))\n",
    "            \n",
    "        elif not p_out and p_alert:\n",
    "            p_alert = False\n",
    "            print(\"Pressure is normal\")\n",
    "            \n",
    "        ########## Humidity ##########\n",
    "        h = sensor.data.humidity\n",
    "        h_out = h < avg_hum - 5 or h > avg_hum + 5\n",
    "        \n",
    "        if h_out and not h_alert:\n",
    "            h_alert = True\n",
    "            print(\"Humidity is abnormal: \" + str(avg_hum - h))\n",
    "            \n",
    "        elif not h_out and h_alert:\n",
    "            h_alert = False\n",
    "            print(\"Humidity is normal\")\n",
    "\n",
    "        ########## Gas Resistance ##########\n",
    "        if sensor.data.heat_stable:\n",
    "            r = sensor.data.gas_resistance\n",
    "            r_out = r < avg_res - 5 or h > avg_res + 5\n",
    "\n",
    "            if r_out and not r_alert:\n",
    "                r_alert = True\n",
    "                print(\"Gas Resistance is abnormal: \" + str(avg_res - r))\n",
    "\n",
    "            elif not r_out and r_alert:\n",
    "                r_alert = False\n",
    "                print(\"Gas Resistance is normal\")\n",
    "            \n",
    "    time.sleep(1)"
   ]
  }
 ],
 "metadata": {
  "kernelspec": {
   "display_name": "Python 3",
   "language": "python",
   "name": "python3"
  },
  "language_info": {
   "codemirror_mode": {
    "name": "ipython",
    "version": 3
   },
   "file_extension": ".py",
   "mimetype": "text/x-python",
   "name": "python",
   "nbconvert_exporter": "python",
   "pygments_lexer": "ipython3",
   "version": "3.6.9"
  }
 },
 "nbformat": 4,
 "nbformat_minor": 5
}

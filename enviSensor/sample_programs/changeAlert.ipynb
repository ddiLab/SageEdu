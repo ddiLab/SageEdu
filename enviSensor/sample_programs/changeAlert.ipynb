{
 "cells": [
  {
   "cell_type": "markdown",
   "id": "21df4aa4",
   "metadata": {},
   "source": [
    "# Abnormal Enviornment Detector"
   ]
  },
  {
   "cell_type": "markdown",
   "id": "8781030f",
   "metadata": {},
   "source": [
    "The \"**Calibration**\" portion records data and averages it to determine a \"normal\" benchmarks of each reading of the environmental sensor. And the \"**Check Changes**\" portion actively in live time checks the environment for any deviations of those norms."
   ]
  },
  {
   "cell_type": "markdown",
   "id": "011dad2d",
   "metadata": {},
   "source": [
    "---"
   ]
  },
  {
   "cell_type": "markdown",
   "id": "f0fa9be8",
   "metadata": {},
   "source": [
    "## Calibration"
   ]
  },
  {
   "cell_type": "markdown",
   "id": "c70fdd25",
   "metadata": {},
   "source": [
    "### Setup"
   ]
  },
  {
   "cell_type": "code",
   "execution_count": 1,
   "id": "2169a34b",
   "metadata": {},
   "outputs": [],
   "source": [
    "import bme680\n",
    "import time\n",
    "import numpy as np\n",
    "from matplotlib import pyplot as plt\n",
    "\n",
    "sensor = bme680.BME680()\n",
    "\n",
    "sensor.set_humidity_oversample(bme680.OS_2X)\n",
    "sensor.set_pressure_oversample(bme680.OS_4X)\n",
    "sensor.set_temperature_oversample(bme680.OS_8X)\n",
    "sensor.set_filter(bme680.FILTER_SIZE_3)\n",
    "\n",
    "sensor.set_gas_status(bme680.ENABLE_GAS_MEAS)\n",
    "sensor.set_gas_heater_temperature(320)\n",
    "sensor.set_gas_heater_duration(150)\n",
    "sensor.select_gas_heater_profile(0)"
   ]
  },
  {
   "cell_type": "markdown",
   "id": "e8449f4c",
   "metadata": {},
   "source": [
    "### Calibrating"
   ]
  },
  {
   "cell_type": "code",
   "execution_count": 2,
   "id": "f97a6b1c",
   "metadata": {},
   "outputs": [
    {
     "name": "stdout",
     "output_type": "stream",
     "text": [
      "Unable to collect gas resistance\n",
      "average temp: 26.224\n",
      "average pressure: 992.774\n",
      "average humidity: 66.16080000000001\n",
      "average gas res.: 8478.799611157425\n"
     ]
    }
   ],
   "source": [
    "# Finding 'normal' values\n",
    "\n",
    "# number of minutes to calibrate\n",
    "cal_time = 5\n",
    "\n",
    "temp = []\n",
    "pres = []\n",
    "hum = []\n",
    "res = []\n",
    "sensor.get_sensor_data() # preliminary runs to ensure the other checks work\n",
    "\n",
    "for i in range(cal_time):\n",
    "    \n",
    "    if sensor.get_sensor_data():\n",
    "        temp.append(sensor.data.temperature)\n",
    "        pres.append(sensor.data.pressure)\n",
    "        hum.append(sensor.data.humidity)\n",
    "        \n",
    "        if sensor.data.heat_stable:\n",
    "            res.append(sensor.data.gas_resistance)\n",
    "            \n",
    "        else:\n",
    "            print(\"Unable to collect gas resistance\")\n",
    "            \n",
    "    else:\n",
    "        print(\"Could not collect data. Skipping this check.\")\n",
    "        continue\n",
    "    \n",
    "    time.sleep(60)\n",
    "\n",
    "avg_temp = np.average(temp)\n",
    "avg_pres = np.average(pres)\n",
    "avg_hum = np.average(hum)\n",
    "avg_res = np.average(res)\n",
    "\n",
    "print(f\"average temp: {avg_temp}\")\n",
    "print(f\"average pressure: {avg_pres}\")\n",
    "print(f\"average humidity: {avg_hum}\")\n",
    "print(f\"average gas res.: {avg_res}\")"
   ]
  },
  {
   "cell_type": "markdown",
   "id": "2cc533ff",
   "metadata": {},
   "source": [
    "## Check Changes"
   ]
  },
  {
   "cell_type": "markdown",
   "id": "217b0ebe",
   "metadata": {},
   "source": [
    "The code below runs in live time to check every `interval` seconds if the readings of the sensor deviate from the normal values calculated above. It will print a warning if they do. If not, it will state the values are normal. Exit the code by pressing the stop button at the top of the page. Side note: to get the readings to change, I held the sensor in my hands and slowly blew inside my hands."
   ]
  },
  {
   "cell_type": "code",
   "execution_count": 3,
   "id": "6ab8b8db",
   "metadata": {},
   "outputs": [
    {
     "name": "stdout",
     "output_type": "stream",
     "text": [
      "Temperature is normal\n",
      "Pressure is normal\n",
      "Humidity is normal\n",
      "WARNING: Gas Resistance is abnormal at 8122.7499122719255\n",
      "Temperature is normal\n",
      "Pressure is normal\n",
      "Humidity is normal\n",
      "WARNING: Gas Resistance is abnormal at 8047.678280710811\n",
      "Temperature is normal\n",
      "Pressure is normal\n",
      "Humidity is normal\n",
      "Gas Resistance is normal\n",
      "Temperature is normal\n",
      "Pressure is normal\n",
      "Humidity is normal\n",
      "Gas Resistance is normal\n",
      "Temperature is normal\n",
      "Pressure is normal\n",
      "WARNING: Humidity is abnormal at 77.44\n",
      "Gas Resistance is normal\n",
      "Temperature is normal\n",
      "Pressure is normal\n",
      "WARNING: Humidity is abnormal at 85.015\n",
      "Gas Resistance is normal\n",
      "WARNING: Temperature is abnormal at 28.54\n",
      "Pressure is normal\n",
      "WARNING: Humidity is abnormal at 87.904\n",
      "Gas Resistance is normal\n",
      "WARNING: Temperature is abnormal at 29.4\n",
      "Pressure is normal\n",
      "WARNING: Humidity is abnormal at 89.119\n",
      "Gas Resistance is normal\n",
      "WARNING: Temperature is abnormal at 30.13\n",
      "Pressure is normal\n",
      "WARNING: Humidity is abnormal at 89.71\n",
      "Gas Resistance is normal\n",
      "WARNING: Temperature is abnormal at 30.73\n",
      "Pressure is normal\n",
      "WARNING: Humidity is abnormal at 90.187\n",
      "Gas Resistance is normal\n",
      "WARNING: Temperature is abnormal at 30.68\n",
      "Pressure is normal\n",
      "WARNING: Humidity is abnormal at 88.256\n",
      "Gas Resistance is normal\n",
      "WARNING: Temperature is abnormal at 30.51\n",
      "Pressure is normal\n",
      "WARNING: Humidity is abnormal at 80.989\n",
      "Gas Resistance is normal\n",
      "WARNING: Temperature is abnormal at 30.32\n",
      "Pressure is normal\n",
      "WARNING: Humidity is abnormal at 72.721\n",
      "Gas Resistance is normal\n",
      "WARNING: Temperature is abnormal at 30.12\n",
      "Pressure is normal\n",
      "Humidity is normal\n",
      "Gas Resistance is normal\n",
      "WARNING: Temperature is abnormal at 29.93\n",
      "Pressure is normal\n",
      "Humidity is normal\n",
      "Gas Resistance is normal\n",
      "WARNING: Temperature is abnormal at 29.73\n",
      "Pressure is normal\n",
      "Humidity is normal\n",
      "Gas Resistance is normal\n",
      "WARNING: Temperature is abnormal at 29.53\n",
      "Pressure is normal\n",
      "Humidity is normal\n",
      "Gas Resistance is normal\n",
      "WARNING: Temperature is abnormal at 29.35\n",
      "Pressure is normal\n",
      "Humidity is normal\n",
      "Gas Resistance is normal\n",
      "WARNING: Temperature is abnormal at 29.17\n",
      "Pressure is normal\n",
      "Humidity is normal\n",
      "Gas Resistance is normal\n",
      "WARNING: Temperature is abnormal at 29.0\n",
      "Pressure is normal\n",
      "Humidity is normal\n",
      "Gas Resistance is normal\n",
      "Program stopped\n"
     ]
    }
   ],
   "source": [
    "interval = 5 # in seconds\n",
    "\n",
    "try:\n",
    "    while True:\n",
    "        if sensor.get_sensor_data():\n",
    "\n",
    "            ########## Temperature ##########\n",
    "            t = sensor.data.temperature\n",
    "            t_out = t < avg_temp - 2 or t > avg_temp + 2 # change the restriction values if needed\n",
    "\n",
    "            if t_out:\n",
    "                print(\"WARNING: Temperature is abnormal at \" + str(t))\n",
    "            else:\n",
    "                print(\"Temperature is normal\")\n",
    "\n",
    "            ########## Air Presure ##########\n",
    "            p = sensor.data.pressure\n",
    "            p_out = p < avg_pres - 5 or p > avg_pres + 5 # change the restriction values if needed\n",
    "\n",
    "            if p_out:\n",
    "                print(\"WARNING: Pressure is abnormal at \" + str(p))\n",
    "\n",
    "            else:\n",
    "                print(\"Pressure is normal\")\n",
    "\n",
    "            ########## Humidity ##########\n",
    "            h = sensor.data.humidity\n",
    "            h_out = h < avg_hum - 5 or h > avg_hum + 5 # change the restriction values if needed\n",
    "\n",
    "            if h_out:\n",
    "                print(\"WARNING: Humidity is abnormal at \" + str(h))\n",
    "\n",
    "            else:\n",
    "                print(\"Humidity is normal\")\n",
    "\n",
    "            ########## Gas Resistance ##########\n",
    "            if sensor.data.heat_stable:\n",
    "                r = sensor.data.gas_resistance\n",
    "                r_out = r < avg_res - 5 or h > avg_res + 5 # change the restriction values if needed\n",
    "\n",
    "                if r_out:\n",
    "                    print(\"WARNING: Gas Resistance is abnormal at \" + str(r))\n",
    "\n",
    "                else:\n",
    "                    print(\"Gas Resistance is normal\")\n",
    "\n",
    "        time.sleep(interval)\n",
    "except KeyboardInterrupt:\n",
    "    print('Program stopped')"
   ]
  }
 ],
 "metadata": {
  "kernelspec": {
   "display_name": "Python 3",
   "language": "python",
   "name": "python3"
  },
  "language_info": {
   "codemirror_mode": {
    "name": "ipython",
    "version": 3
   },
   "file_extension": ".py",
   "mimetype": "text/x-python",
   "name": "python",
   "nbconvert_exporter": "python",
   "pygments_lexer": "ipython3",
   "version": "3.6.9"
  }
 },
 "nbformat": 4,
 "nbformat_minor": 5
}

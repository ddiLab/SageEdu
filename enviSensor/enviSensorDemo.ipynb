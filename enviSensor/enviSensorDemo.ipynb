{
 "cells": [
  {
   "cell_type": "markdown",
   "id": "93a3ab35",
   "metadata": {},
   "source": [
    "<h1 style=\"text-align: center;\">Eniviornmental Sensor</h1>\n"
   ]
  },
  {
   "cell_type": "markdown",
   "id": "2ac88a17",
   "metadata": {},
   "source": [
    "---"
   ]
  },
  {
   "cell_type": "markdown",
   "id": "2c6861bb",
   "metadata": {},
   "source": [
    "The enviornmental sensor can provide four different types of measurements:\n",
    "* Humidity\n",
    "* Air Pressure\n",
    "* Temperature\n",
    "* Gas Resistance\n",
    "\n",
    "The gas resistance measurment requires a hot plate inside the sensor to be heated.\n",
    "This can effect the results of the other readings, so this measurement is taken last, after all the others. If gas resistance readings are not being taken, then you can sample much more frequently as you do not have to worry about the effect of the hot plate."
   ]
  },
  {
   "cell_type": "markdown",
   "id": "c4d19280",
   "metadata": {},
   "source": [
    "## Setup:"
   ]
  },
  {
   "cell_type": "code",
   "execution_count": 28,
   "id": "00c620cd",
   "metadata": {},
   "outputs": [],
   "source": [
    "import bme680\n",
    "import time\n",
    "import numpy as np\n",
    "from matplotlib import pyplot as plt\n",
    "\n",
    "sensor = bme680.BME680()\n",
    "\n",
    "sensor.set_humidity_oversample(bme680.OS_2X)\n",
    "sensor.set_pressure_oversample(bme680.OS_4X)\n",
    "sensor.set_temperature_oversample(bme680.OS_8X)\n",
    "sensor.set_filter(bme680.FILTER_SIZE_3)\n",
    "\n",
    "sensor.set_gas_status(bme680.ENABLE_GAS_MEAS)\n",
    "sensor.set_gas_heater_temperature(320)\n",
    "sensor.set_gas_heater_duration(150)\n",
    "sensor.select_gas_heater_profile(0)"
   ]
  },
  {
   "cell_type": "markdown",
   "id": "38a493c6",
   "metadata": {},
   "source": [
    "In the code above we are first importing a few libraries:\n",
    "* The `bme680` library is what allows us to interact with the sensor.  \n",
    "* We will be using the `time` library to specify pauses between times we take readings from the sensor.  \n",
    "* We will be using the `numpy` and `matplotlib` library to manipulate and plot the data we collect from the sensor.\n",
    "\n",
    "`sensor = bme680.BME680()` creates an instance of the sensor which is what we will be interacting with.\n",
    "\n",
    "The next three lines of code set the `_oversample` settings for the humidity, pressure, and temperature. This setting controles the balance between the accuracy of each reading and amount of noise in each reading. The higher the oversampling,the less noise and the less accuracy you get in the readings. The lower the oversampling, the higher the noise and the higher the accuracy is in the readings.\n",
    "\n",
    "The `filter` protects sensor readings against momentary changes in conditions such as a sudden change in pressure due to a door slamming. This filter will remove these outlying values.\n",
    "\n",
    "The final four lines of code deal with the settings for the gas resistance measurments. The measurement can be enabled or disabled with `set_gas_status`. It's recommended that the values for the temperature and duration that the hot plate is held at that temperature are left as they are."
   ]
  },
  {
   "cell_type": "markdown",
   "id": "e485231f",
   "metadata": {},
   "source": [
    "The following line is simply loading a dataset taken from the sensor every minute over the course of an hour:"
   ]
  },
  {
   "cell_type": "code",
   "execution_count": 13,
   "id": "e59c50a8",
   "metadata": {},
   "outputs": [],
   "source": [
    "hour_data = np.loadtxt(\"hourData.csv\", delimiter=\",\")"
   ]
  },
  {
   "cell_type": "markdown",
   "id": "28eabf17",
   "metadata": {},
   "source": [
    "Taking measurements from the sensor is very simple:\n",
    "temperature, pressure, and humidity can be read with `sensor.data.temperature`, `sensor.data.pressure`, and `sensor.data.humidity` respectively.\n",
    "\n",
    "Before we can take the readings we have to make sure the sensor is ready to do so. We can do this using `sensor.get_sensor_data()` which returns a Boolean value (`True` or `False`). Before we take a gas resistance reading we check that the gas heater is stable using `sensor.data.heat_stable` which is also a Boolean value."
   ]
  },
  {
   "cell_type": "markdown",
   "id": "67979335",
   "metadata": {},
   "source": [
    "The following two chunks of code are simply helper functions we will be using to read data from the sensor and format it into a more presentable form."
   ]
  },
  {
   "cell_type": "code",
   "execution_count": 14,
   "id": "2035c414",
   "metadata": {},
   "outputs": [],
   "source": [
    "\"\"\"\n",
    "This is a helper function to print individual current data readings from the sensor\n",
    "data_type - String or integer:\n",
    "    - \"temp\" or 0 to receive a temperature reading\n",
    "    - \"pres\" or 1 to receive an air pressure reading\n",
    "    - \"hum\"  or 2 to receive a humidity reading\n",
    "    - \"res\"  or 3 to receive an air resistance reading\n",
    "\"\"\"\n",
    "def printData(data_type):\n",
    "    \n",
    "    if sensor.get_sensor_data():\n",
    "        if (data_type == 'temp' or data_type == 0):\n",
    "            print(\"{0:.2f} C\".format(sensor.data.temperature))\n",
    "            \n",
    "        elif (data_type == 'pres' or data_type == 1):\n",
    "            print(\"{0:.2f} hPa\".format(sensor.data.pressure))\n",
    "            \n",
    "        elif (data_type == 'hum' or data_type == 2):\n",
    "            print(\"{0:.2f} hPa\".format(sensor.data.humidity))\n",
    "            \n",
    "        elif (data_type == 'res' or data_type == 3):\n",
    "            if sensor.data.heat_stable:\n",
    "                print(\"{0:.2f} Ohms\".format(sensor.data.gas_resistance))\n",
    "                \n",
    "            else:\n",
    "                print(\"ERROR: Could not get air resistance data. Heat not stable.\")\n",
    "                \n",
    "        else:\n",
    "            print(\"ERROR: Invalid data type\")\n",
    "            \n",
    "    else:\n",
    "        print(\"ERROR: Sensor data not available\")         "
   ]
  },
  {
   "cell_type": "code",
   "execution_count": 15,
   "id": "4f4fe11a",
   "metadata": {},
   "outputs": [],
   "source": [
    "\"\"\"\n",
    "Helper function to collect and plot data over time\n",
    "length - integer: Number of seconds to collect data\n",
    "dType - String or integer:\n",
    "    - \"temp\" or 0 to receive a temperature plot\n",
    "    - \"pres\" or 1 to receive an air pressure plot\n",
    "    - \"hum\"  or 2 to receive a humidity plot\n",
    "    - \"res\"  or 3 to receive an air resistance plot \n",
    "\"\"\"\n",
    "def plot_data(length,dType):  \n",
    "    \n",
    "    run_time = length\n",
    "    live_time = 0\n",
    "    senser_data = []\n",
    "\n",
    "    while live_time < run_time:\n",
    "\n",
    "        if sensor.get_sensor_data():\n",
    "            \n",
    "            if (dType == 'temp' or dType == 0):\n",
    "                data_point = sensor.data.temperature\n",
    "            \n",
    "            elif (dType == 'pres' or dType == 1):\n",
    "                data_point = sensor.data.pressure\n",
    "            \n",
    "            elif (dType == 'hum' or dType == 2):\n",
    "                data_point = sensor.data.humidity\n",
    "            \n",
    "            elif (dType == 'res' or dType == 3):\n",
    "                if sensor.data.heat_stable:\n",
    "                    data_point = sensor.data.gas_resistance\n",
    "            \n",
    "            senser_data.append(data_point)\n",
    "\n",
    "        else:\n",
    "            # No data is available\n",
    "            senser_data.append(-1)\n",
    "\n",
    "        live_time += 1\n",
    "        time.sleep(1)\n",
    "\n",
    "    print(senser_data)\n",
    "\n",
    "    fig = plt.figure()\n",
    "    plt.plot(np.arange(run_time-1),senser_data[1:])"
   ]
  },
  {
   "cell_type": "markdown",
   "id": "8d14fb48",
   "metadata": {},
   "source": [
    "---"
   ]
  },
  {
   "cell_type": "markdown",
   "id": "a4b7cda7",
   "metadata": {},
   "source": [
    "<h2 style=\"text-align: center;\">Temperature</h2>"
   ]
  },
  {
   "cell_type": "markdown",
   "id": "75acea67",
   "metadata": {},
   "source": [
    "Temperature readings are taken in degrees Celcius."
   ]
  },
  {
   "cell_type": "markdown",
   "id": "02a75604",
   "metadata": {},
   "source": [
    "### Current Temperature Readings:"
   ]
  },
  {
   "cell_type": "markdown",
   "id": "0e4b82da",
   "metadata": {},
   "source": [
    "The following line uses one of functions defined above to print the current temperature."
   ]
  },
  {
   "cell_type": "code",
   "execution_count": 16,
   "id": "93c4e335",
   "metadata": {},
   "outputs": [
    {
     "name": "stdout",
     "output_type": "stream",
     "text": [
      "ERROR: Sensor data not available\n"
     ]
    }
   ],
   "source": [
    "printData(\"temp\")"
   ]
  },
  {
   "cell_type": "markdown",
   "id": "2f2e3c66",
   "metadata": {},
   "source": [
    "The following line uses one of the functions defined above to take a temperature reading every second for the specified number of seconds.  \n",
    "Change the first parameter to adjust the number of readings that are taken."
   ]
  },
  {
   "cell_type": "code",
   "execution_count": 17,
   "id": "6cb44c3a",
   "metadata": {
    "scrolled": true
   },
   "outputs": [
    {
     "name": "stdout",
     "output_type": "stream",
     "text": [
      "[25.3, 25.32, 25.35, 25.39, 25.42, 25.44, 25.47, 25.49, 25.5, 25.52]\n"
     ]
    },
    {
     "data": {
      "image/png": "[encoded data removed]",
      "text/plain": [
       "<matplotlib.figure.Figure at 0x7f8afe1a90>"
      ]
     },
     "metadata": {
      "needs_background": "light"
     },
     "output_type": "display_data"
    }
   ],
   "source": [
    "plot_data(10,\"temp\")"
   ]
  },
  {
   "cell_type": "markdown",
   "id": "a2bab09a",
   "metadata": {},
   "source": [
    "### Previously Recorded Data:"
   ]
  },
  {
   "cell_type": "markdown",
   "id": "b2171f75",
   "metadata": {},
   "source": [
    "The following chunk plots the temperature data from `hourData.csv` using the matplotlib library."
   ]
  },
  {
   "cell_type": "code",
   "execution_count": 18,
   "id": "aeb1e120",
   "metadata": {},
   "outputs": [
    {
     "data": {
      "text/plain": [
       "Text(0.5,1,'Temperature every minute for an hour')"
      ]
     },
     "execution_count": 18,
     "metadata": {},
     "output_type": "execute_result"
    },
    {
     "data": {
      "image/png": "[encoded data removed]",
      "text/plain": [
       "<matplotlib.figure.Figure at 0x7f8a111cf8>"
      ]
     },
     "metadata": {
      "needs_background": "light"
     },
     "output_type": "display_data"
    }
   ],
   "source": [
    "plt.plot(hour_data[1:, 0], hour_data[1:,1])\n",
    "plt.xlabel('Minute')\n",
    "plt.ylabel('Temperature (C)')\n",
    "plt.title(\"Temperature every minute for an hour\")"
   ]
  },
  {
   "cell_type": "markdown",
   "id": "df411884",
   "metadata": {},
   "source": [
    "---"
   ]
  },
  {
   "cell_type": "markdown",
   "id": "46750e3b",
   "metadata": {},
   "source": [
    "<h2 style=\"text-align: center;\">Air Pressure</h2>"
   ]
  },
  {
   "cell_type": "markdown",
   "id": "6106ae98",
   "metadata": {},
   "source": [
    "Air pressure readings are taken in hectoPascals."
   ]
  },
  {
   "cell_type": "markdown",
   "id": "df82a62f",
   "metadata": {},
   "source": [
    "### Current Air Pressure Readings:"
   ]
  },
  {
   "cell_type": "markdown",
   "id": "86fb32e5",
   "metadata": {},
   "source": [
    "The following line uses one of functions defined above to print the current air pressure."
   ]
  },
  {
   "cell_type": "code",
   "execution_count": 19,
   "id": "be9cc043",
   "metadata": {},
   "outputs": [
    {
     "name": "stdout",
     "output_type": "stream",
     "text": [
      "999.77 hPa\n"
     ]
    }
   ],
   "source": [
    "printData(\"pres\")"
   ]
  },
  {
   "cell_type": "markdown",
   "id": "58cecff0",
   "metadata": {},
   "source": [
    "The following line uses one of the functions defined above to take an air pressure reading every second for the specified number of seconds.  \n",
    "Change the first parameter to adjust the number of readings that are taken."
   ]
  },
  {
   "cell_type": "code",
   "execution_count": 20,
   "id": "8cc015bb",
   "metadata": {},
   "outputs": [
    {
     "name": "stdout",
     "output_type": "stream",
     "text": [
      "[-1, 999.75, 999.76, 999.76, 999.75, 999.76, 999.78, 999.79, 999.78, 999.77]\n"
     ]
    },
    {
     "data": {
      "image/png": "[encoded data removed]",
      "text/plain": [
       "<matplotlib.figure.Figure at 0x7f8a2aacf8>"
      ]
     },
     "metadata": {
      "needs_background": "light"
     },
     "output_type": "display_data"
    }
   ],
   "source": [
    "plot_data(10,\"pres\")"
   ]
  },
  {
   "cell_type": "markdown",
   "id": "a5031a72",
   "metadata": {},
   "source": [
    "### Previously Recorded Data:"
   ]
  },
  {
   "cell_type": "markdown",
   "id": "2a59991f",
   "metadata": {},
   "source": [
    "The following chunk plots the air pressure data from `hourData.csv` using the matplotlib library."
   ]
  },
  {
   "cell_type": "code",
   "execution_count": 21,
   "id": "cbd0cb06",
   "metadata": {},
   "outputs": [
    {
     "data": {
      "text/plain": [
       "Text(0.5,1,'Air Pressure every minute for an hour')"
      ]
     },
     "execution_count": 21,
     "metadata": {},
     "output_type": "execute_result"
    },
    {
     "data": {
      "image/png": "[encoded data removed]",
      "text/plain": [
       "<matplotlib.figure.Figure at 0x7f8a0de080>"
      ]
     },
     "metadata": {
      "needs_background": "light"
     },
     "output_type": "display_data"
    }
   ],
   "source": [
    "plt.plot(hour_data[1:, 0], hour_data[1:,2])\n",
    "plt.xlabel('Minute')\n",
    "plt.ylabel('Air Pressure (hPa)')\n",
    "plt.title(\"Air Pressure every minute for an hour\")"
   ]
  },
  {
   "cell_type": "markdown",
   "id": "89b0807f",
   "metadata": {},
   "source": [
    "---"
   ]
  },
  {
   "cell_type": "markdown",
   "id": "9df90180",
   "metadata": {},
   "source": [
    "<h2 style=\"text-align: center;\">Humidity</h2>"
   ]
  },
  {
   "cell_type": "markdown",
   "id": "f5d1dc40",
   "metadata": {},
   "source": [
    "Humidity reading in terms of percent relative humidity."
   ]
  },
  {
   "cell_type": "markdown",
   "id": "883d8fe4",
   "metadata": {},
   "source": [
    "### Current Humidity Readings:"
   ]
  },
  {
   "cell_type": "markdown",
   "id": "e4b0f0b7",
   "metadata": {},
   "source": [
    "The following line uses one of functions defined above to print the current humidity."
   ]
  },
  {
   "cell_type": "code",
   "execution_count": 22,
   "id": "964f3ee4",
   "metadata": {},
   "outputs": [
    {
     "name": "stdout",
     "output_type": "stream",
     "text": [
      "62.84 hPa\n"
     ]
    }
   ],
   "source": [
    "printData(\"hum\")"
   ]
  },
  {
   "cell_type": "markdown",
   "id": "2387e7e5",
   "metadata": {},
   "source": [
    "The following line uses one of the functions defined above to take a humidity reading every second for the specified number of seconds.  \n",
    "Change the first parameter to adjust the number of readings that are taken."
   ]
  },
  {
   "cell_type": "code",
   "execution_count": 23,
   "id": "64b49f55",
   "metadata": {
    "scrolled": true
   },
   "outputs": [
    {
     "name": "stdout",
     "output_type": "stream",
     "text": [
      "[62.804, 62.842, 62.808, 62.774, 62.737, 62.704, 62.685, 62.659, 62.659, 62.617]\n"
     ]
    },
    {
     "data": {
      "image/png": "[encoded data removed]",
      "text/plain": [
       "<matplotlib.figure.Figure at 0x7f89fcd860>"
      ]
     },
     "metadata": {
      "needs_background": "light"
     },
     "output_type": "display_data"
    }
   ],
   "source": [
    "plot_data(10,\"hum\")"
   ]
  },
  {
   "cell_type": "markdown",
   "id": "7a3ce76d",
   "metadata": {},
   "source": [
    "### Previously Recorded Data:"
   ]
  },
  {
   "cell_type": "markdown",
   "id": "7d4038fe",
   "metadata": {},
   "source": [
    "The following chunk plots the humidity data from `hourData.csv` using the matplotlib library."
   ]
  },
  {
   "cell_type": "code",
   "execution_count": 24,
   "id": "5c9a1d83",
   "metadata": {},
   "outputs": [
    {
     "data": {
      "text/plain": [
       "Text(0.5,1,'Humidity every minute for an hour')"
      ]
     },
     "execution_count": 24,
     "metadata": {},
     "output_type": "execute_result"
    },
    {
     "data": {
      "image/png": "[encoded data removed]",
      "text/plain": [
       "<matplotlib.figure.Figure at 0x7f89f8ebe0>"
      ]
     },
     "metadata": {
      "needs_background": "light"
     },
     "output_type": "display_data"
    }
   ],
   "source": [
    "plt.plot(hour_data[1:, 0], hour_data[1:,3])\n",
    "plt.xlabel('Minute')\n",
    "plt.ylabel('Humidity')\n",
    "plt.title(\"Humidity every minute for an hour\")"
   ]
  },
  {
   "cell_type": "markdown",
   "id": "a637166a",
   "metadata": {},
   "source": [
    "---"
   ]
  },
  {
   "cell_type": "markdown",
   "id": "1fe3769f",
   "metadata": {},
   "source": [
    "<h2 style=\"text-align: center;\">Gas Resistance</h2>"
   ]
  },
  {
   "cell_type": "markdown",
   "id": "d05a34e8",
   "metadata": {},
   "source": [
    "Gas resistance readings are taken in Ohms."
   ]
  },
  {
   "cell_type": "markdown",
   "id": "1caf6a40",
   "metadata": {},
   "source": [
    "### Current Gas Resistance Readings:"
   ]
  },
  {
   "cell_type": "markdown",
   "id": "57208d26",
   "metadata": {},
   "source": [
    "The following line uses one of functions defined above to print the current gas resistance."
   ]
  },
  {
   "cell_type": "code",
   "execution_count": 25,
   "id": "e320528f",
   "metadata": {},
   "outputs": [
    {
     "name": "stdout",
     "output_type": "stream",
     "text": [
      "35857.57 Ohms\n"
     ]
    }
   ],
   "source": [
    "printData(\"res\")"
   ]
  },
  {
   "cell_type": "markdown",
   "id": "4256129e",
   "metadata": {},
   "source": [
    "The following line uses one of the functions defined above to take a gas resistance reading every second for the specified number of seconds.  \n",
    "Change the first parameter to adjust the number of readings that are taken."
   ]
  },
  {
   "cell_type": "code",
   "execution_count": 26,
   "id": "2b6905fb",
   "metadata": {},
   "outputs": [
    {
     "name": "stdout",
     "output_type": "stream",
     "text": [
      "[-1, 39883.38975971747, 39359.10762578709, 39997.55834059849, 40460.84474429111, 41379.490309102104, 42212.90403681188, 42992.209981883825, 43709.485666555, 44592.96519275309]\n"
     ]
    },
    {
     "data": {
      "image/png": "[encoded data removed]",
      "text/plain": [
       "<matplotlib.figure.Figure at 0x7f89f3c4e0>"
      ]
     },
     "metadata": {
      "needs_background": "light"
     },
     "output_type": "display_data"
    }
   ],
   "source": [
    "plot_data(10,\"res\")"
   ]
  },
  {
   "cell_type": "markdown",
   "id": "34d7221e",
   "metadata": {},
   "source": [
    "### Previously Recorded Data:"
   ]
  },
  {
   "cell_type": "markdown",
   "id": "0a561e6b",
   "metadata": {},
   "source": [
    "The following chunk plots the gas resistance data from `hourData.csv` using the matplotlib library."
   ]
  },
  {
   "cell_type": "code",
   "execution_count": 27,
   "id": "5c05b04f",
   "metadata": {},
   "outputs": [
    {
     "data": {
      "text/plain": [
       "Text(0.5,1,'Air Resistance every minute for an hour')"
      ]
     },
     "execution_count": 27,
     "metadata": {},
     "output_type": "execute_result"
    },
    {
     "data": {
      "image/png": "[encoded data removed]",
      "text/plain": [
       "<matplotlib.figure.Figure at 0x7f89ef5518>"
      ]
     },
     "metadata": {
      "needs_background": "light"
     },
     "output_type": "display_data"
    }
   ],
   "source": [
    "plt.plot(hour_data[2:, 0], hour_data[2:,4])\n",
    "plt.xlabel('Minute')\n",
    "plt.ylabel('Air resistance (Ohm)')\n",
    "plt.title(\"Air Resistance every minute for an hour\")"
   ]
  }
 ],
 "metadata": {
  "kernelspec": {
   "display_name": "Python 3",
   "language": "python",
   "name": "python3"
  },
  "language_info": {
   "codemirror_mode": {
    "name": "ipython",
    "version": 3
   },
   "file_extension": ".py",
   "mimetype": "text/x-python",
   "name": "python",
   "nbconvert_exporter": "python",
   "pygments_lexer": "ipython3",
   "version": "3.6.9"
  }
 },
 "nbformat": 4,
 "nbformat_minor": 5
}

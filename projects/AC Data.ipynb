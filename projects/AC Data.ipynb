{
 "cells": [
  {
   "cell_type": "code",
   "execution_count": null,
   "id": "ebccd595",
   "metadata": {},
   "outputs": [],
   "source": [
    "from waggle.data.audio import Microphone\n",
    "import time\n",
    "from scipy.io import wavfile\n",
    "import scipy.io\n",
    "import matplotlib.pyplot as plt\n",
    "import numpy as np\n",
    "import bme680"
   ]
  },
  {
   "cell_type": "code",
   "execution_count": null,
   "id": "706caa07",
   "metadata": {},
   "outputs": [],
   "source": [
    "microphone = Microphone()\n",
    "\n",
    "sensor = bme680.BME680()\n",
    "sensor.set_humidity_oversample(bme680.OS_2X)\n",
    "sensor.set_pressure_oversample(bme680.OS_4X)\n",
    "sensor.set_temperature_oversample(bme680.OS_8X)\n",
    "sensor.set_filter(bme680.FILTER_SIZE_3)\n",
    "sensor.set_gas_status(bme680.DISABLE_GAS_MEAS)\n",
    "sensor.set_gas_heater_temperature(320)\n",
    "sensor.set_gas_heater_duration(150)\n",
    "sensor.select_gas_heater_profile(0)"
   ]
  },
  {
   "cell_type": "code",
   "execution_count": null,
   "id": "a6188ff5",
   "metadata": {},
   "outputs": [],
   "source": [
    "def time_ns():\n",
    "    return int(time.time() * 1e9)"
   ]
  },
  {
   "cell_type": "code",
   "execution_count": null,
   "id": "d5ab5f8c",
   "metadata": {},
   "outputs": [],
   "source": [
    "def getAudioSample(duration):\n",
    "    sample = microphone.record(duration)\n",
    "    sample.save(\"ACDetector.wav\")\n",
    "    (samplerate, data) = wavfile.read('ACDetector.wav')\n",
    "    return data"
   ]
  },
  {
   "cell_type": "code",
   "execution_count": null,
   "id": "ec737c58",
   "metadata": {},
   "outputs": [],
   "source": [
    "def getTempSample(duration):\n",
    "    enviData = []\n",
    "    \n",
    "    for i in range(1, duration):\n",
    "        if sensor.get_sensor_data():\n",
    "            reading = sensor.data.temperature\n",
    "            enviData = np.append(enviData, [reading], axis=0)\n",
    "            \n",
    "        time.sleep(1)\n",
    "        \n",
    "    return enviData"
   ]
  },
  {
   "cell_type": "code",
   "execution_count": null,
   "id": "2d934938",
   "metadata": {},
   "outputs": [],
   "source": [
    "audioData = []\n",
    "tempData = []"
   ]
  },
  {
   "cell_type": "code",
   "execution_count": 1,
   "id": "50cab1c4",
   "metadata": {},
   "outputs": [
    {
     "ename": "NameError",
     "evalue": "name 'time_ns' is not defined",
     "output_type": "error",
     "traceback": [
      "\u001b[0;31m---------------------------------------------------------------------------\u001b[0m",
      "\u001b[0;31mNameError\u001b[0m                                 Traceback (most recent call last)",
      "\u001b[0;32m<ipython-input-1-abb83677bab0>\u001b[0m in \u001b[0;36m<module>\u001b[0;34m\u001b[0m\n\u001b[1;32m      2\u001b[0m \u001b[0;34m\u001b[0m\u001b[0m\n\u001b[1;32m      3\u001b[0m     \u001b[0;31m# Recording Audio\u001b[0m\u001b[0;34m\u001b[0m\u001b[0;34m\u001b[0m\u001b[0;34m\u001b[0m\u001b[0m\n\u001b[0;32m----> 4\u001b[0;31m     \u001b[0mtime\u001b[0m \u001b[0;34m=\u001b[0m \u001b[0mtime_ns\u001b[0m\u001b[0;34m(\u001b[0m\u001b[0;34m)\u001b[0m\u001b[0;34m;\u001b[0m\u001b[0;34m\u001b[0m\u001b[0;34m\u001b[0m\u001b[0m\n\u001b[0m\u001b[1;32m      5\u001b[0m     \u001b[0maudioData\u001b[0m \u001b[0;34m=\u001b[0m \u001b[0mgetAudioSample\u001b[0m\u001b[0;34m(\u001b[0m\u001b[0;36m10\u001b[0m\u001b[0;34m)\u001b[0m\u001b[0;34m\u001b[0m\u001b[0;34m\u001b[0m\u001b[0m\n\u001b[1;32m      6\u001b[0m     \u001b[0mavgAmp\u001b[0m \u001b[0;34m=\u001b[0m \u001b[0mnp\u001b[0m\u001b[0;34m.\u001b[0m\u001b[0maverage\u001b[0m\u001b[0;34m(\u001b[0m\u001b[0mnp\u001b[0m\u001b[0;34m.\u001b[0m\u001b[0mabsolute\u001b[0m\u001b[0;34m(\u001b[0m\u001b[0maudioData\u001b[0m\u001b[0;34m)\u001b[0m\u001b[0;34m)\u001b[0m\u001b[0;34m\u001b[0m\u001b[0;34m\u001b[0m\u001b[0m\n",
      "\u001b[0;31mNameError\u001b[0m: name 'time_ns' is not defined"
     ]
    }
   ],
   "source": [
    "for i in range(0,10):\n",
    "    \n",
    "    # Recording Audio\n",
    "    time = time_ns();\n",
    "    audioData = getAudioSample(10)\n",
    "    avgAmp = np.average(np.absolute(audioData))\n",
    "    audioData = np.append(audioData, [time, avgAmp], axis=0)\n",
    "    \n",
    "    # Collecting Enviornmental Data\n",
    "    time = time_ns();\n",
    "    enviData = getTempSample(10)\n",
    "    avgTemp = np.average(enviData)\n",
    "    tempData = np.append(tempData, [time, avgTemp], axis=0)\n",
    "    \n",
    "    fig,ax = plt.subplots()\n",
    "    ax.plot(vToDate(audioData[1:, 0]), audioData[1:,1], color=\"green\", label='Avg')\n",
    "    ax.set_xlabel(\"Time\",fontsize=14)\n",
    "    ax.set_ylabel(\"Avg Volume\",color=\"green\",fontsize=14)\n",
    "\n",
    "    ax2=ax.twinx()\n",
    "    ax2.plot(vToDate(tempData[1:, 0]), tempData[1:,1], color=\"blue\")\n",
    "    ax2.set_ylabel(\"Temperature (C)\",color=\"blue\",fontsize=14)\n",
    "    plt.gcf().autofmt_xdate()\n",
    "    plt.show()"
   ]
  }
 ],
 "metadata": {
  "kernelspec": {
   "display_name": "Python 3",
   "language": "python",
   "name": "python3"
  },
  "language_info": {
   "codemirror_mode": {
    "name": "ipython",
    "version": 3
   },
   "file_extension": ".py",
   "mimetype": "text/x-python",
   "name": "python",
   "nbconvert_exporter": "python",
   "pygments_lexer": "ipython3",
   "version": "3.6.9"
  }
 },
 "nbformat": 4,
 "nbformat_minor": 5
}

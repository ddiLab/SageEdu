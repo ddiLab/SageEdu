{
 "cells": [
  {
   "cell_type": "markdown",
   "id": "c38f0a7e",
   "metadata": {},
   "source": [
    "# Simple AC Detector"
   ]
  },
  {
   "cell_type": "markdown",
   "id": "e47b1a9e",
   "metadata": {},
   "source": [
    "This notebook contains code that will collect data from the microphone and the environmental sensor to try to determine if an air conditioner has been turned on."
   ]
  },
  {
   "cell_type": "markdown",
   "id": "b7696ee4",
   "metadata": {},
   "source": [
    "### Sound as an Indicator"
   ]
  },
  {
   "cell_type": "markdown",
   "id": "f1493ab6",
   "metadata": {},
   "source": [
    "A baseline volume level is determined during the calibration process. Afterwards, the current volume of the room is compared to this baseline value. If the volume has significantly increased then it will assume the AC has been turned on. This method is very simple be not very accurate. It is easily susceptible to false positives as it attributes any increase in volume to an AC."
   ]
  },
  {
   "cell_type": "markdown",
   "id": "b05c4c46",
   "metadata": {},
   "source": [
    "### Temperature as an Indicator"
   ]
  },
  {
   "cell_type": "markdown",
   "id": "b2d0fab3",
   "metadata": {},
   "source": [
    "A baseline temperature is determined during the calibration process. Afterwards, the current temperature of the room is compared to this baseline value. If the temperature has significantly decreased then it will assume the AC has been turned on. "
   ]
  },
  {
   "cell_type": "markdown",
   "id": "6ec4b658",
   "metadata": {},
   "source": [
    "The methods used to determine if an AC has been turned on are very simple but not very accurate. To improve upon this methodology, the data from both sensors can be combined to make a better guess. Additionally, the audio data could undergo a more complex analysis process, such as matching the current sound in the room to a known AC sound."
   ]
  },
  {
   "cell_type": "markdown",
   "id": "f18caa86",
   "metadata": {},
   "source": [
    "---"
   ]
  },
  {
   "cell_type": "markdown",
   "id": "5d740e11",
   "metadata": {},
   "source": [
    "## The Code"
   ]
  },
  {
   "cell_type": "markdown",
   "id": "0358781e",
   "metadata": {},
   "source": [
    "### Setup"
   ]
  },
  {
   "cell_type": "code",
   "execution_count": null,
   "id": "a7def10e",
   "metadata": {},
   "outputs": [],
   "source": [
    "from waggle.data.audio import Microphone\n",
    "import time\n",
    "from scipy.io import wavfile\n",
    "import scipy.io\n",
    "import matplotlib.pyplot as plt\n",
    "import numpy as np\n",
    "import bme680"
   ]
  },
  {
   "cell_type": "code",
   "execution_count": null,
   "id": "d038f9e8",
   "metadata": {},
   "outputs": [],
   "source": [
    "# Is the AC on based on the mic\n",
    "micAC = False\n",
    "microphone = Microphone()\n",
    "\n",
    "# Is the AC on based on the envi sensor\n",
    "enviAC = False\n",
    "sensor = bme680.BME680()\n",
    "sensor.set_humidity_oversample(bme680.OS_2X)\n",
    "sensor.set_pressure_oversample(bme680.OS_4X)\n",
    "sensor.set_temperature_oversample(bme680.OS_8X)\n",
    "sensor.set_filter(bme680.FILTER_SIZE_3)\n",
    "sensor.set_gas_status(bme680.DISABLE_GAS_MEAS)\n",
    "sensor.set_gas_heater_temperature(320)\n",
    "sensor.set_gas_heater_duration(150)\n",
    "sensor.select_gas_heater_profile(0)"
   ]
  },
  {
   "cell_type": "markdown",
   "id": "9466c1b0",
   "metadata": {},
   "source": [
    "## Helper Functions"
   ]
  },
  {
   "cell_type": "markdown",
   "id": "663d096e",
   "metadata": {},
   "source": [
    "Records an audio sample for the given duration of time and returns the recording's data."
   ]
  },
  {
   "cell_type": "code",
   "execution_count": 4,
   "id": "ce4cd471",
   "metadata": {},
   "outputs": [],
   "source": [
    "def getAudioSample(duration):\n",
    "    sample = microphone.record(duration)\n",
    "    sample.save(\"ACDetector.wav\")\n",
    "    (samplerate, data) = wavfile.read('ACDetector.wav')\n",
    "    return data\n"
   ]
  },
  {
   "cell_type": "markdown",
   "id": "4cfb378b",
   "metadata": {},
   "source": [
    "Collects temperature readings once a second for the given duration and returns the readings in an array."
   ]
  },
  {
   "cell_type": "code",
   "execution_count": 5,
   "id": "59c5ae29",
   "metadata": {},
   "outputs": [],
   "source": [
    "def getTempSample(duration):\n",
    "    enviData = []\n",
    "    \n",
    "    for i in range(1, duration):\n",
    "        if sensor.get_sensor_data():\n",
    "            reading = sensor.data.temperature\n",
    "            enviData = np.append(enviData, [reading], axis=0)\n",
    "            \n",
    "        time.sleep(1)\n",
    "        \n",
    "    return enviData"
   ]
  },
  {
   "cell_type": "markdown",
   "id": "1fd1b874",
   "metadata": {},
   "source": [
    "## Calibration"
   ]
  },
  {
   "cell_type": "markdown",
   "id": "f520c25e",
   "metadata": {},
   "source": [
    "The calibration part of this notebook should only be run when the AC known to be off."
   ]
  },
  {
   "cell_type": "code",
   "execution_count": 1,
   "id": "b018e2c4",
   "metadata": {},
   "outputs": [
    {
     "name": "stdout",
     "output_type": "stream",
     "text": [
      "Calibrating Microphone...\n"
     ]
    },
    {
     "ename": "NameError",
     "evalue": "name 'microphone' is not defined",
     "output_type": "error",
     "traceback": [
      "\u001b[0;31m--------------------------------------------------------------------------\u001b[0m",
      "\u001b[0;31mNameError\u001b[0m                                Traceback (most recent call last)",
      "\u001b[0;32m<ipython-input-1-67465f4c1b3b>\u001b[0m in \u001b[0;36m<module>\u001b[0;34m\u001b[0m\n\u001b[1;32m      1\u001b[0m \u001b[0mprint\u001b[0m\u001b[0;34m(\u001b[0m\u001b[0;34m\"Calibrating Microphone...\"\u001b[0m\u001b[0;34m)\u001b[0m\u001b[0;34m\u001b[0m\u001b[0;34m\u001b[0m\u001b[0m\n\u001b[0;32m----> 2\u001b[0;31m \u001b[0msample\u001b[0m \u001b[0;34m=\u001b[0m \u001b[0mmicrophone\u001b[0m\u001b[0;34m.\u001b[0m\u001b[0mrecord\u001b[0m\u001b[0;34m(\u001b[0m\u001b[0;36m10\u001b[0m\u001b[0;34m)\u001b[0m\u001b[0;34m\u001b[0m\u001b[0;34m\u001b[0m\u001b[0m\n\u001b[0m\u001b[1;32m      3\u001b[0m \u001b[0msample\u001b[0m\u001b[0;34m.\u001b[0m\u001b[0msave\u001b[0m\u001b[0;34m(\u001b[0m\u001b[0;34m\"ACDetector.wav\"\u001b[0m\u001b[0;34m)\u001b[0m\u001b[0;34m\u001b[0m\u001b[0;34m\u001b[0m\u001b[0m\n\u001b[1;32m      4\u001b[0m \u001b[0;34m(\u001b[0m\u001b[0msamplerate\u001b[0m\u001b[0;34m,\u001b[0m \u001b[0mdata\u001b[0m\u001b[0;34m)\u001b[0m \u001b[0;34m=\u001b[0m \u001b[0mwavfile\u001b[0m\u001b[0;34m.\u001b[0m\u001b[0mread\u001b[0m\u001b[0;34m(\u001b[0m\u001b[0;34m'ACDetector.wav'\u001b[0m\u001b[0;34m)\u001b[0m\u001b[0;34m\u001b[0m\u001b[0;34m\u001b[0m\u001b[0m\n\u001b[1;32m      5\u001b[0m \u001b[0mnoAC\u001b[0m \u001b[0;34m=\u001b[0m \u001b[0mnp\u001b[0m\u001b[0;34m.\u001b[0m\u001b[0maverage\u001b[0m\u001b[0;34m(\u001b[0m\u001b[0mnp\u001b[0m\u001b[0;34m.\u001b[0m\u001b[0mabsolute\u001b[0m\u001b[0;34m(\u001b[0m\u001b[0mdata\u001b[0m\u001b[0;34m)\u001b[0m\u001b[0;34m)\u001b[0m\u001b[0;34m\u001b[0m\u001b[0;34m\u001b[0m\u001b[0m\n",
      "\u001b[0;31mNameError\u001b[0m: name 'microphone' is not defined"
     ]
    }
   ],
   "source": [
    "print(\"Calibrating Microphone...\")\n",
    "audioData = geAudioSample(10)\n",
    "noAC = np.average(np.absolute(audioData))\n",
    "print(\"Amplitude with AC off: \", noAC)\n",
    "\n",
    "print(\"Calibrating Envi Sensor...\")\n",
    "enviData = getTempSample(10)\n",
    "norm_temp = np.average(temps)\n",
    "print(\"Normal Temperature: \", norm_temp)"
   ]
  },
  {
   "cell_type": "markdown",
   "id": "e626651e",
   "metadata": {},
   "source": [
    "## Detect an AC"
   ]
  },
  {
   "cell_type": "markdown",
   "id": "fbac9bd0",
   "metadata": {},
   "source": [
    "This loop will alternate between using the microphone and the environmental sensor to try to determine if an AC has been turned on in the last 10 seconds."
   ]
  },
  {
   "cell_type": "code",
   "execution_count": null,
   "id": "abf57dc0",
   "metadata": {},
   "outputs": [],
   "source": [
    "while True:\n",
    "    # Recording Audio\n",
    "    audioData = geAudioSample(10)\n",
    "    avgAmp = np.average( np.absolute(audioData))\n",
    "    print(\"Currnt avg Amplitude: \", avgAmp)\n",
    "    print(avgAmp)\n",
    "\n",
    "    # Check if AC is on based on sound\n",
    "    if (avgAmp - noAC > 100) and not micAC:\n",
    "        print(\"AC is now on based on mic\")\n",
    "        micAC = True  \n",
    "    elif micAC:\n",
    "        print(\"AC is now off based on mic\")\n",
    "        micAC = False\n",
    "\n",
    "    # Collecting Enviornmental Data\n",
    "    enviData = getTemSample(10)\n",
    "    avgTemp = np.average(enviData)\n",
    "    print(\"Current avg temp:\", avgTemp)\n",
    "    \n",
    "    # Check if AC is on based on temperature\n",
    "    if (norm_temp - avgTemp > 2) and not enviAC:\n",
    "        print(\"AC is now on based on envi\")\n",
    "        enviAC = True  \n",
    "    elif enviAC:\n",
    "        print(\"AC is now off based on envi\")\n",
    "        enviAC = False"
   ]
  }
 ],
 "metadata": {
  "kernelspec": {
   "display_name": "Python 3",
   "language": "python",
   "name": "python3"
  },
  "language_info": {
   "codemirror_mode": {
    "name": "ipython",
    "version": 3
   },
   "file_extension": ".py",
   "mimetype": "text/x-python",
   "name": "python",
   "nbconvert_exporter": "python",
   "pygments_lexer": "ipython3",
   "version": "3.6.9"
  }
 },
 "nbformat": 4,
 "nbformat_minor": 5
}

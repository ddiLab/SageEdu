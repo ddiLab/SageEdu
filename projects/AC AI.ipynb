{
 "cells": [
  {
   "cell_type": "markdown",
   "id": "5797df29",
   "metadata": {},
   "source": [
    "# AI Air Conditioner Detector"
   ]
  },
  {
   "cell_type": "code",
   "execution_count": null,
   "id": "cfea3882",
   "metadata": {},
   "outputs": [],
   "source": [
    "from pyAudioAnalysis import audioTrainTest"
   ]
  },
  {
   "cell_type": "code",
   "execution_count": 1,
   "id": "ec307566",
   "metadata": {},
   "outputs": [
    {
     "ename": "NameError",
     "evalue": "name 'aT' is not defined",
     "output_type": "error",
     "traceback": [
      "\u001b[0;31m---------------------------------------------------------------------------\u001b[0m",
      "\u001b[0;31mNameError\u001b[0m                                 Traceback (most recent call last)",
      "\u001b[0;32m<ipython-input-1-dbdf6ee5a68a>\u001b[0m in \u001b[0;36m<module>\u001b[0;34m\u001b[0m\n\u001b[0;32m----> 1\u001b[0;31m aT.extract_features_and_train([\"./AC_sounds\",\"./dog_sounds\"], \n\u001b[0m\u001b[1;32m      2\u001b[0m                               1.0, 1.0, aT.shortTermWindow, aT.shortTermStep, \"svm\", \"svmSMtemp\", False)\n\u001b[1;32m      3\u001b[0m \u001b[0;34m\u001b[0m\u001b[0m\n",
      "\u001b[0;31mNameError\u001b[0m: name 'aT' is not defined"
     ]
    }
   ],
   "source": [
    "aT.extract_features_and_train([\"./AC_sounds\",\"./dog_sounds\"], \n",
    "                              1.0, 1.0, aT.shortTermWindow, aT.shortTermStep, \"svm\", \"svmSMtemp\", False)"
   ]
  }
 ],
 "metadata": {
  "kernelspec": {
   "display_name": "Python 3",
   "language": "python",
   "name": "python3"
  },
  "language_info": {
   "codemirror_mode": {
    "name": "ipython",
    "version": 3
   },
   "file_extension": ".py",
   "mimetype": "text/x-python",
   "name": "python",
   "nbconvert_exporter": "python",
   "pygments_lexer": "ipython3",
   "version": "3.6.9"
  }
 },
 "nbformat": 4,
 "nbformat_minor": 5
}

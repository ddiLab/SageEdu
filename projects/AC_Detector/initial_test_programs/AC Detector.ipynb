{
 "cells": [
  {
   "cell_type": "markdown",
   "id": "067cb911",
   "metadata": {},
   "source": [
    "# Simple AC Detector"
   ]
  },
  {
   "cell_type": "markdown",
   "id": "2d9656bb",
   "metadata": {},
   "source": [
    "This notebook contains code that will collect data from the microphone and the environmental sensor to try to determine if an air conditioner has been turned on."
   ]
  },
  {
   "cell_type": "markdown",
   "id": "803fa39b",
   "metadata": {},
   "source": [
    "### Sound as an Indicator"
   ]
  },
  {
   "cell_type": "markdown",
   "id": "ef56b38e",
   "metadata": {},
   "source": [
    "A baseline volume level is determined during the calibration process. Afterwards, the current volume of the room is compared to this baseline value. If the volume has significantly increased then it will assume the AC has been turned on. This method is very simple be not very accurate. It is easily susceptible to false positives as it attributes any increase in volume to an AC."
   ]
  },
  {
   "cell_type": "markdown",
   "id": "61041daa",
   "metadata": {},
   "source": [
    "### Temperature as an Indicator"
   ]
  },
  {
   "cell_type": "markdown",
   "id": "d5696788",
   "metadata": {},
   "source": [
    "A baseline temperature is determined during the calibration process. Afterwards, the current temperature of the room is compared to this baseline value. If the temperature has significantly decreased then it will assume the AC has been turned on. "
   ]
  },
  {
   "cell_type": "markdown",
   "id": "0d2b9327",
   "metadata": {},
   "source": [
    "The methods used to determine if an AC has been turned on are very simple but not very accurate. To improve upon this methodology, the data from both sensors can be combined to make a better guess. Additionally, the audio data could undergo a more complex analysis process, such as matching the current sound in the room to a known AC sound."
   ]
  },
  {
   "cell_type": "markdown",
   "id": "f69bd8c9",
   "metadata": {},
   "source": [
    "---"
   ]
  },
  {
   "cell_type": "markdown",
   "id": "d6c119b5",
   "metadata": {},
   "source": [
    "## The Code"
   ]
  },
  {
   "cell_type": "markdown",
   "id": "0fabfe45",
   "metadata": {},
   "source": [
    "### Setup"
   ]
  },
  {
   "cell_type": "code",
   "execution_count": 16,
   "id": "0bb82746",
   "metadata": {},
   "outputs": [
    {
     "name": "stderr",
     "output_type": "stream",
     "text": [
      "using backwards compatible implementation of time_ns\n"
     ]
    }
   ],
   "source": [
    "from waggle.data.audio import Microphone\n",
    "import time\n",
    "from scipy.io import wavfile\n",
    "import scipy.io\n",
    "import matplotlib.pyplot as plt\n",
    "import numpy as np\n",
    "import bme680"
   ]
  },
  {
   "cell_type": "code",
   "execution_count": 17,
   "id": "e737aeb3",
   "metadata": {},
   "outputs": [],
   "source": [
    "microphone = Microphone()\n",
    "\n",
    "sensor = bme680.BME680()\n",
    "sensor.set_humidity_oversample(bme680.OS_2X)\n",
    "sensor.set_pressure_oversample(bme680.OS_4X)\n",
    "sensor.set_temperature_oversample(bme680.OS_8X)\n",
    "sensor.set_filter(bme680.FILTER_SIZE_3)\n",
    "sensor.set_gas_status(bme680.DISABLE_GAS_MEAS)\n",
    "sensor.set_gas_heater_temperature(320)\n",
    "sensor.set_gas_heater_duration(150)\n",
    "sensor.select_gas_heater_profile(0)"
   ]
  },
  {
   "cell_type": "markdown",
   "id": "ba4fa19b",
   "metadata": {},
   "source": [
    "## Helper Functions"
   ]
  },
  {
   "cell_type": "markdown",
   "id": "ed2f7f75",
   "metadata": {},
   "source": [
    "Records an audio sample for the given duration of time and returns the recording's data."
   ]
  },
  {
   "cell_type": "code",
   "execution_count": 18,
   "id": "3f7db74b",
   "metadata": {},
   "outputs": [],
   "source": [
    "def getAudioSample(duration):\n",
    "    sample = microphone.record(duration)\n",
    "    sample.save(\"ACDetector.wav\")\n",
    "    (samplerate, data) = wavfile.read('ACDetector.wav')\n",
    "    return data\n"
   ]
  },
  {
   "cell_type": "markdown",
   "id": "5bebdae2",
   "metadata": {},
   "source": [
    "Collects temperature readings once a second for the given duration and returns the readings in an array."
   ]
  },
  {
   "cell_type": "code",
   "execution_count": 19,
   "id": "ac88fae3",
   "metadata": {},
   "outputs": [],
   "source": [
    "def getTempSample(duration):\n",
    "    enviData = []\n",
    "    \n",
    "    for i in range(1, duration):\n",
    "        if sensor.get_sensor_data():\n",
    "            reading = sensor.data.temperature\n",
    "            enviData = np.append(enviData, [reading], axis=0)\n",
    "            \n",
    "        time.sleep(1)\n",
    "        \n",
    "    return enviData"
   ]
  },
  {
   "cell_type": "markdown",
   "id": "f7fb386c",
   "metadata": {},
   "source": [
    "Determines if the AC is on by checking if the given value is within 25% of the difference between the on and off value of the AC."
   ]
  },
  {
   "cell_type": "code",
   "execution_count": 20,
   "id": "68b855e2",
   "metadata": {},
   "outputs": [],
   "source": [
    "def calcACState(off, on, current):\n",
    "    difference = on - off\n",
    "    deviation = difference * 0.25\n",
    "    \n",
    "    if difference > 0:\n",
    "        if current >= on - deviation:\n",
    "            return True\n",
    "        \n",
    "    elif difference < 0:\n",
    "        if current <= on + deviation:\n",
    "            return True\n",
    "   \n",
    "    return False\n",
    "    "
   ]
  },
  {
   "cell_type": "markdown",
   "id": "606dd95e",
   "metadata": {},
   "source": [
    "## Calibration"
   ]
  },
  {
   "cell_type": "markdown",
   "id": "0757eb12",
   "metadata": {},
   "source": [
    "The calibration part of this notebook should only be run when the AC known to be off."
   ]
  },
  {
   "cell_type": "markdown",
   "id": "d884e0f3",
   "metadata": {},
   "source": [
    "### AC Off"
   ]
  },
  {
   "cell_type": "code",
   "execution_count": 22,
   "id": "a37b8c2f",
   "metadata": {
    "scrolled": true
   },
   "outputs": [
    {
     "name": "stdout",
     "output_type": "stream",
     "text": [
      "Calibrating Microphone with AC OFF...\n",
      "Amplitude with AC off:  405.85085833333335\n",
      "Calibrating Envi Sensor with AC OFF...\n",
      "Temperature with AC OFF:  25.413333333333334\n"
     ]
    }
   ],
   "source": [
    "print(\"Calibrating Microphone with AC OFF...\")\n",
    "audioData = getAudioSample(10)\n",
    "mic_AC_OFF = np.average(np.absolute(audioData))\n",
    "print(\"Amplitude with AC off: \", mic_AC_OFF)\n",
    "\n",
    "print(\"Calibrating Envi Sensor with AC OFF...\")\n",
    "enviData = getTempSample(10)\n",
    "temp_AC_OFF = np.average(enviData)\n",
    "print(\"Temperature with AC OFF: \", temp_AC_OFF)"
   ]
  },
  {
   "cell_type": "markdown",
   "id": "f8b9a5fc",
   "metadata": {},
   "source": [
    "### AC On"
   ]
  },
  {
   "cell_type": "code",
   "execution_count": 24,
   "id": "b4448f69",
   "metadata": {},
   "outputs": [
    {
     "name": "stdout",
     "output_type": "stream",
     "text": [
      "Calibrating Microphone with AC ON...\n",
      "Amplitude with AC ON:  9985.901629166667\n",
      "Calibrating Envi Sensor with AC ON...\n",
      "Temperature with AC ON:  25.29222222222222\n"
     ]
    }
   ],
   "source": [
    "print(\"Calibrating Microphone with AC ON...\")\n",
    "audioData = getAudioSample(10)\n",
    "mic_AC_ON = np.average(np.absolute(audioData))\n",
    "print(\"Amplitude with AC ON: \", mic_AC_ON)\n",
    "\n",
    "print(\"Calibrating Envi Sensor with AC ON...\")\n",
    "enviData = getTempSample(10)\n",
    "temp_AC_ON = np.average(enviData)\n",
    "print(\"Temperature with AC ON: \", temp_AC_ON)"
   ]
  },
  {
   "cell_type": "markdown",
   "id": "7074de6b",
   "metadata": {},
   "source": [
    "## Detect an AC"
   ]
  },
  {
   "cell_type": "markdown",
   "id": "ececd191",
   "metadata": {},
   "source": [
    "This loop will alternate between using the microphone and the environmental sensor to try to determine if an AC has been turned on in the last 10 seconds."
   ]
  },
  {
   "cell_type": "code",
   "execution_count": 32,
   "id": "bad9a134",
   "metadata": {},
   "outputs": [
    {
     "ename": "KeyboardInterrupt",
     "evalue": "",
     "output_type": "error",
     "traceback": [
      "\u001b[0;31m---------------------------------------------------------------------------\u001b[0m",
      "\u001b[0;31mKeyboardInterrupt\u001b[0m                         Traceback (most recent call last)",
      "\u001b[0;32m<ipython-input-6-1fc1dde74832>\u001b[0m in \u001b[0;36m<module>\u001b[0;34m\u001b[0m\n\u001b[1;32m      1\u001b[0m \u001b[0;32mwhile\u001b[0m \u001b[0;32mTrue\u001b[0m\u001b[0;34m:\u001b[0m\u001b[0;34m\u001b[0m\u001b[0;34m\u001b[0m\u001b[0m\n\u001b[1;32m      2\u001b[0m     \u001b[0;31m# Recording Audio\u001b[0m\u001b[0;34m\u001b[0m\u001b[0;34m\u001b[0m\u001b[0;34m\u001b[0m\u001b[0m\n\u001b[0;32m----> 3\u001b[0;31m     \u001b[0maudioData\u001b[0m \u001b[0;34m=\u001b[0m \u001b[0mgetAudioSample\u001b[0m\u001b[0;34m(\u001b[0m\u001b[0;36m10\u001b[0m\u001b[0;34m)\u001b[0m\u001b[0;34m\u001b[0m\u001b[0;34m\u001b[0m\u001b[0m\n\u001b[0m\u001b[1;32m      4\u001b[0m     \u001b[0mavgAmp\u001b[0m \u001b[0;34m=\u001b[0m \u001b[0mnp\u001b[0m\u001b[0;34m.\u001b[0m\u001b[0maverage\u001b[0m\u001b[0;34m(\u001b[0m\u001b[0mnp\u001b[0m\u001b[0;34m.\u001b[0m\u001b[0mabsolute\u001b[0m\u001b[0;34m(\u001b[0m\u001b[0maudioData\u001b[0m\u001b[0;34m)\u001b[0m\u001b[0;34m)\u001b[0m\u001b[0;34m\u001b[0m\u001b[0;34m\u001b[0m\u001b[0m\n\u001b[1;32m      5\u001b[0m     \u001b[0mprint\u001b[0m\u001b[0;34m(\u001b[0m\u001b[0;34m\"Currnt avg Amplitude: \"\u001b[0m\u001b[0;34m,\u001b[0m \u001b[0mavgAmp\u001b[0m\u001b[0;34m)\u001b[0m\u001b[0;34m\u001b[0m\u001b[0;34m\u001b[0m\u001b[0m\n",
      "\u001b[0;32m<ipython-input-3-f8c392c7b74f>\u001b[0m in \u001b[0;36mgetAudioSample\u001b[0;34m(duration)\u001b[0m\n\u001b[1;32m      1\u001b[0m \u001b[0;32mdef\u001b[0m \u001b[0mgetAudioSample\u001b[0m\u001b[0;34m(\u001b[0m\u001b[0mduration\u001b[0m\u001b[0;34m)\u001b[0m\u001b[0;34m:\u001b[0m\u001b[0;34m\u001b[0m\u001b[0;34m\u001b[0m\u001b[0m\n\u001b[0;32m----> 2\u001b[0;31m     \u001b[0msample\u001b[0m \u001b[0;34m=\u001b[0m \u001b[0mmicrophone\u001b[0m\u001b[0;34m.\u001b[0m\u001b[0mrecord\u001b[0m\u001b[0;34m(\u001b[0m\u001b[0mduration\u001b[0m\u001b[0;34m)\u001b[0m\u001b[0;34m\u001b[0m\u001b[0;34m\u001b[0m\u001b[0m\n\u001b[0m\u001b[1;32m      3\u001b[0m     \u001b[0msample\u001b[0m\u001b[0;34m.\u001b[0m\u001b[0msave\u001b[0m\u001b[0;34m(\u001b[0m\u001b[0;34m\"ACDetector.wav\"\u001b[0m\u001b[0;34m)\u001b[0m\u001b[0;34m\u001b[0m\u001b[0;34m\u001b[0m\u001b[0m\n\u001b[1;32m      4\u001b[0m     \u001b[0;34m(\u001b[0m\u001b[0msamplerate\u001b[0m\u001b[0;34m,\u001b[0m \u001b[0mdata\u001b[0m\u001b[0;34m)\u001b[0m \u001b[0;34m=\u001b[0m \u001b[0mwavfile\u001b[0m\u001b[0;34m.\u001b[0m\u001b[0mread\u001b[0m\u001b[0;34m(\u001b[0m\u001b[0;34m'ACDetector.wav'\u001b[0m\u001b[0;34m)\u001b[0m\u001b[0;34m\u001b[0m\u001b[0;34m\u001b[0m\u001b[0m\n\u001b[1;32m      5\u001b[0m     \u001b[0;32mreturn\u001b[0m \u001b[0mdata\u001b[0m\u001b[0;34m\u001b[0m\u001b[0;34m\u001b[0m\u001b[0m\n",
      "\u001b[0;32m~/Sage/virtEnv/lib/python3.6/site-packages/waggle/data/audio.py\u001b[0m in \u001b[0;36mrecord\u001b[0;34m(self, duration)\u001b[0m\n\u001b[1;32m     30\u001b[0m             \u001b[0msamplerate\u001b[0m\u001b[0;34m=\u001b[0m\u001b[0mself\u001b[0m\u001b[0;34m.\u001b[0m\u001b[0msamplerate\u001b[0m\u001b[0;34m,\u001b[0m\u001b[0;34m\u001b[0m\u001b[0;34m\u001b[0m\u001b[0m\n\u001b[1;32m     31\u001b[0m             \u001b[0mnumframes\u001b[0m\u001b[0;34m=\u001b[0m\u001b[0mint\u001b[0m\u001b[0;34m(\u001b[0m\u001b[0mduration\u001b[0m \u001b[0;34m*\u001b[0m \u001b[0mself\u001b[0m\u001b[0;34m.\u001b[0m\u001b[0msamplerate\u001b[0m\u001b[0;34m)\u001b[0m\u001b[0;34m,\u001b[0m\u001b[0;34m\u001b[0m\u001b[0;34m\u001b[0m\u001b[0m\n\u001b[0;32m---> 32\u001b[0;31m             channels=self.channels)\n\u001b[0m\u001b[1;32m     33\u001b[0m         \u001b[0;32mreturn\u001b[0m \u001b[0mAudioSample\u001b[0m\u001b[0;34m(\u001b[0m\u001b[0mdata\u001b[0m\u001b[0;34m,\u001b[0m \u001b[0mself\u001b[0m\u001b[0;34m.\u001b[0m\u001b[0msamplerate\u001b[0m\u001b[0;34m,\u001b[0m \u001b[0mtimestamp\u001b[0m\u001b[0;34m=\u001b[0m\u001b[0mtimestamp\u001b[0m\u001b[0;34m)\u001b[0m\u001b[0;34m\u001b[0m\u001b[0;34m\u001b[0m\u001b[0m\n\u001b[1;32m     34\u001b[0m \u001b[0;34m\u001b[0m\u001b[0m\n",
      "\u001b[0;32m~/Sage/virtEnv/lib/python3.6/site-packages/soundcard/pulseaudio.py\u001b[0m in \u001b[0;36mrecord\u001b[0;34m(self, numframes, samplerate, channels, blocksize)\u001b[0m\n\u001b[1;32m    610\u001b[0m             \u001b[0mchannels\u001b[0m \u001b[0;34m=\u001b[0m \u001b[0mself\u001b[0m\u001b[0;34m.\u001b[0m\u001b[0mchannels\u001b[0m\u001b[0;34m\u001b[0m\u001b[0;34m\u001b[0m\u001b[0m\n\u001b[1;32m    611\u001b[0m         \u001b[0;32mwith\u001b[0m \u001b[0m_Recorder\u001b[0m\u001b[0;34m(\u001b[0m\u001b[0mself\u001b[0m\u001b[0;34m.\u001b[0m\u001b[0m_id\u001b[0m\u001b[0;34m,\u001b[0m \u001b[0msamplerate\u001b[0m\u001b[0;34m,\u001b[0m \u001b[0mchannels\u001b[0m\u001b[0;34m,\u001b[0m \u001b[0mblocksize\u001b[0m\u001b[0;34m)\u001b[0m \u001b[0;32mas\u001b[0m \u001b[0mr\u001b[0m\u001b[0;34m:\u001b[0m\u001b[0;34m\u001b[0m\u001b[0;34m\u001b[0m\u001b[0m\n\u001b[0;32m--> 612\u001b[0;31m             \u001b[0;32mreturn\u001b[0m \u001b[0mr\u001b[0m\u001b[0;34m.\u001b[0m\u001b[0mrecord\u001b[0m\u001b[0;34m(\u001b[0m\u001b[0mnumframes\u001b[0m\u001b[0;34m)\u001b[0m\u001b[0;34m\u001b[0m\u001b[0;34m\u001b[0m\u001b[0m\n\u001b[0m\u001b[1;32m    613\u001b[0m \u001b[0;34m\u001b[0m\u001b[0m\n\u001b[1;32m    614\u001b[0m \u001b[0;34m\u001b[0m\u001b[0m\n",
      "\u001b[0;32m~/Sage/virtEnv/lib/python3.6/site-packages/soundcard/pulseaudio.py\u001b[0m in \u001b[0;36mrecord\u001b[0;34m(self, numframes)\u001b[0m\n\u001b[1;32m    848\u001b[0m             \u001b[0;32melse\u001b[0m\u001b[0;34m:\u001b[0m\u001b[0;34m\u001b[0m\u001b[0;34m\u001b[0m\u001b[0m\n\u001b[1;32m    849\u001b[0m                 \u001b[0;32mwhile\u001b[0m \u001b[0mcaptured_frames\u001b[0m \u001b[0;34m<\u001b[0m \u001b[0mnumframes\u001b[0m\u001b[0;34m:\u001b[0m\u001b[0;34m\u001b[0m\u001b[0;34m\u001b[0m\u001b[0m\n\u001b[0;32m--> 850\u001b[0;31m                     \u001b[0mchunk\u001b[0m \u001b[0;34m=\u001b[0m \u001b[0mself\u001b[0m\u001b[0;34m.\u001b[0m\u001b[0m_record_chunk\u001b[0m\u001b[0;34m(\u001b[0m\u001b[0;34m)\u001b[0m\u001b[0;34m\u001b[0m\u001b[0;34m\u001b[0m\u001b[0m\n\u001b[0m\u001b[1;32m    851\u001b[0m                     \u001b[0mcaptured_data\u001b[0m\u001b[0;34m.\u001b[0m\u001b[0mappend\u001b[0m\u001b[0;34m(\u001b[0m\u001b[0mchunk\u001b[0m\u001b[0;34m)\u001b[0m\u001b[0;34m\u001b[0m\u001b[0;34m\u001b[0m\u001b[0m\n\u001b[1;32m    852\u001b[0m                     \u001b[0mcaptured_frames\u001b[0m \u001b[0;34m+=\u001b[0m \u001b[0mlen\u001b[0m\u001b[0;34m(\u001b[0m\u001b[0mchunk\u001b[0m\u001b[0;34m)\u001b[0m\u001b[0;34m/\u001b[0m\u001b[0mself\u001b[0m\u001b[0;34m.\u001b[0m\u001b[0mchannels\u001b[0m\u001b[0;34m\u001b[0m\u001b[0;34m\u001b[0m\u001b[0m\n",
      "\u001b[0;32m~/Sage/virtEnv/lib/python3.6/site-packages/soundcard/pulseaudio.py\u001b[0m in \u001b[0;36m_record_chunk\u001b[0;34m(self)\u001b[0m\n\u001b[1;32m    790\u001b[0m         \u001b[0mreadable_bytes\u001b[0m \u001b[0;34m=\u001b[0m \u001b[0m_pulse\u001b[0m\u001b[0;34m.\u001b[0m\u001b[0m_pa_stream_readable_size\u001b[0m\u001b[0;34m(\u001b[0m\u001b[0mself\u001b[0m\u001b[0;34m.\u001b[0m\u001b[0mstream\u001b[0m\u001b[0;34m)\u001b[0m\u001b[0;34m\u001b[0m\u001b[0;34m\u001b[0m\u001b[0m\n\u001b[1;32m    791\u001b[0m         \u001b[0;32mwhile\u001b[0m \u001b[0;32mnot\u001b[0m \u001b[0mreadable_bytes\u001b[0m\u001b[0;34m:\u001b[0m\u001b[0;34m\u001b[0m\u001b[0;34m\u001b[0m\u001b[0m\n\u001b[0;32m--> 792\u001b[0;31m             \u001b[0mself\u001b[0m\u001b[0;34m.\u001b[0m\u001b[0m_record_event\u001b[0m\u001b[0;34m.\u001b[0m\u001b[0mwait\u001b[0m\u001b[0;34m(\u001b[0m\u001b[0;34m)\u001b[0m\u001b[0;34m\u001b[0m\u001b[0;34m\u001b[0m\u001b[0m\n\u001b[0m\u001b[1;32m    793\u001b[0m             \u001b[0mself\u001b[0m\u001b[0;34m.\u001b[0m\u001b[0m_record_event\u001b[0m\u001b[0;34m.\u001b[0m\u001b[0mclear\u001b[0m\u001b[0;34m(\u001b[0m\u001b[0;34m)\u001b[0m\u001b[0;34m\u001b[0m\u001b[0;34m\u001b[0m\u001b[0m\n\u001b[1;32m    794\u001b[0m             \u001b[0mreadable_bytes\u001b[0m \u001b[0;34m=\u001b[0m \u001b[0m_pulse\u001b[0m\u001b[0;34m.\u001b[0m\u001b[0m_pa_stream_readable_size\u001b[0m\u001b[0;34m(\u001b[0m\u001b[0mself\u001b[0m\u001b[0;34m.\u001b[0m\u001b[0mstream\u001b[0m\u001b[0;34m)\u001b[0m\u001b[0;34m\u001b[0m\u001b[0;34m\u001b[0m\u001b[0m\n",
      "\u001b[0;32m/usr/lib/python3.6/threading.py\u001b[0m in \u001b[0;36mwait\u001b[0;34m(self, timeout)\u001b[0m\n\u001b[1;32m    549\u001b[0m             \u001b[0msignaled\u001b[0m \u001b[0;34m=\u001b[0m \u001b[0mself\u001b[0m\u001b[0;34m.\u001b[0m\u001b[0m_flag\u001b[0m\u001b[0;34m\u001b[0m\u001b[0;34m\u001b[0m\u001b[0m\n\u001b[1;32m    550\u001b[0m             \u001b[0;32mif\u001b[0m \u001b[0;32mnot\u001b[0m \u001b[0msignaled\u001b[0m\u001b[0;34m:\u001b[0m\u001b[0;34m\u001b[0m\u001b[0;34m\u001b[0m\u001b[0m\n\u001b[0;32m--> 551\u001b[0;31m                 \u001b[0msignaled\u001b[0m \u001b[0;34m=\u001b[0m \u001b[0mself\u001b[0m\u001b[0;34m.\u001b[0m\u001b[0m_cond\u001b[0m\u001b[0;34m.\u001b[0m\u001b[0mwait\u001b[0m\u001b[0;34m(\u001b[0m\u001b[0mtimeout\u001b[0m\u001b[0;34m)\u001b[0m\u001b[0;34m\u001b[0m\u001b[0;34m\u001b[0m\u001b[0m\n\u001b[0m\u001b[1;32m    552\u001b[0m             \u001b[0;32mreturn\u001b[0m \u001b[0msignaled\u001b[0m\u001b[0;34m\u001b[0m\u001b[0;34m\u001b[0m\u001b[0m\n\u001b[1;32m    553\u001b[0m \u001b[0;34m\u001b[0m\u001b[0m\n",
      "\u001b[0;32m/usr/lib/python3.6/threading.py\u001b[0m in \u001b[0;36mwait\u001b[0;34m(self, timeout)\u001b[0m\n\u001b[1;32m    293\u001b[0m         \u001b[0;32mtry\u001b[0m\u001b[0;34m:\u001b[0m    \u001b[0;31m# restore state no matter what (e.g., KeyboardInterrupt)\u001b[0m\u001b[0;34m\u001b[0m\u001b[0;34m\u001b[0m\u001b[0m\n\u001b[1;32m    294\u001b[0m             \u001b[0;32mif\u001b[0m \u001b[0mtimeout\u001b[0m \u001b[0;32mis\u001b[0m \u001b[0;32mNone\u001b[0m\u001b[0;34m:\u001b[0m\u001b[0;34m\u001b[0m\u001b[0;34m\u001b[0m\u001b[0m\n\u001b[0;32m--> 295\u001b[0;31m                 \u001b[0mwaiter\u001b[0m\u001b[0;34m.\u001b[0m\u001b[0macquire\u001b[0m\u001b[0;34m(\u001b[0m\u001b[0;34m)\u001b[0m\u001b[0;34m\u001b[0m\u001b[0;34m\u001b[0m\u001b[0m\n\u001b[0m\u001b[1;32m    296\u001b[0m                 \u001b[0mgotit\u001b[0m \u001b[0;34m=\u001b[0m \u001b[0;32mTrue\u001b[0m\u001b[0;34m\u001b[0m\u001b[0;34m\u001b[0m\u001b[0m\n\u001b[1;32m    297\u001b[0m             \u001b[0;32melse\u001b[0m\u001b[0;34m:\u001b[0m\u001b[0;34m\u001b[0m\u001b[0;34m\u001b[0m\u001b[0m\n",
      "\u001b[0;31mKeyboardInterrupt\u001b[0m: "
     ]
    }
   ],
   "source": [
    "while True:\n",
    "    # Recording Audio\n",
    "    audioData = getAudioSample(10)\n",
    "    avgAmp = np.average( np.absolute(audioData))\n",
    "    print(\"Currnt avg Amplitude: \", avgAmp)\n",
    "    \n",
    "    # Check if AC is on based on sound\n",
    "    if calcACState(mic_AC_OFF, mic_AC_ON, avgAmp):\n",
    "        print(\"AC is now on based on mic\")\n",
    "    else:\n",
    "        print(\"AC is now off based on mic\")\n",
    "    \n",
    "     # Collecting Enviornmental Data\n",
    "    enviData = getTempSample(10)\n",
    "    avgTemp = np.average(enviData)\n",
    "    print(\"Current avg temp:\", avgTemp)\n",
    "    \n",
    "    # Check if AC is on based on temperature\n",
    "    if calcACState(temp_AC_OFF, temp_AC_ON, avgTemp):\n",
    "        print(\"AC is now on based on envi\")\n",
    "    else:\n",
    "        print(\"AC is now off based on envi\")"
   ]
  }
 ],
 "metadata": {
  "kernelspec": {
   "display_name": "Python 3",
   "language": "python",
   "name": "python3"
  },
  "language_info": {
   "codemirror_mode": {
    "name": "ipython",
    "version": 3
   },
   "file_extension": ".py",
   "mimetype": "text/x-python",
   "name": "python",
   "nbconvert_exporter": "python",
   "pygments_lexer": "ipython3",
   "version": "3.6.9"
  }
 },
 "nbformat": 4,
 "nbformat_minor": 5
}

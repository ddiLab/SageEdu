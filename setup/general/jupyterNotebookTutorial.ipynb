{
 "cells": [
  {
   "cell_type": "markdown",
   "id": "090c8a66",
   "metadata": {},
   "source": [
    "# Jupyter Notebook Tutorial"
   ]
  },
  {
   "cell_type": "markdown",
   "id": "71855287",
   "metadata": {},
   "source": [
    "**This is a Jupiter notebook!**  \n",
    "Jupiter notebooks are documents which can contain both code and markdown text (text, equations, figures, links, etc…).  \n",
    "To learn more about Jupyter Notebooks see the [Jupyter Project Documentation](https://jupyter.readthedocs.io/en/latest/)."
   ]
  },
  {
   "cell_type": "markdown",
   "id": "2d96db32",
   "metadata": {},
   "source": [
    "Get started by taking the User Interface Tour which can be found by clicking on the menu:  \n",
    "`Help -> User Interface Tour`"
   ]
  },
  {
   "cell_type": "markdown",
   "id": "69a3fbd2",
   "metadata": {},
   "source": [
    "---"
   ]
  },
  {
   "cell_type": "markdown",
   "id": "cd1e562e",
   "metadata": {},
   "source": [
    "## Markdown Cells"
   ]
  },
  {
   "cell_type": "markdown",
   "id": "0af4a04b",
   "metadata": {},
   "source": [
    "Markdown is a syntax that letts you easily add special format to your text.  Below is a sample of some of the things you can do with markdown.\n",
    "See the [Markdown Guide Website](https://www.markdownguide.org/) to learn more about markdown."
   ]
  },
  {
   "cell_type": "markdown",
   "id": "b204704d",
   "metadata": {},
   "source": [
    "# Heading 1\n",
    "## Heading  2"
   ]
  },
  {
   "cell_type": "markdown",
   "id": "b299928c",
   "metadata": {},
   "source": [
    "**bold text**"
   ]
  },
  {
   "cell_type": "markdown",
   "id": "3b356b44",
   "metadata": {},
   "source": [
    "*italicized text*"
   ]
  },
  {
   "cell_type": "markdown",
   "id": "e4fe5e67",
   "metadata": {},
   "source": [
    "> blockquote"
   ]
  },
  {
   "cell_type": "markdown",
   "id": "ee782e2d",
   "metadata": {},
   "source": [
    "Ordered Lists:\n",
    "1. First item\n",
    "2. Second item\n",
    "3. Third item"
   ]
  },
  {
   "cell_type": "markdown",
   "id": "79c0be23",
   "metadata": {},
   "source": [
    "Unordered Lists:\n",
    "- First item\n",
    "- Second item\n",
    "- Third item"
   ]
  },
  {
   "cell_type": "markdown",
   "id": "2cdbf913",
   "metadata": {},
   "source": [
    "`Lines of code`"
   ]
  },
  {
   "cell_type": "markdown",
   "id": "2452e4db",
   "metadata": {},
   "source": [
    "[Links](https://www.example.com)"
   ]
  },
  {
   "cell_type": "markdown",
   "id": "351978d4",
   "metadata": {},
   "source": [
    "Horizontal Lines:\n",
    "\n",
    "---"
   ]
  },
  {
   "cell_type": "markdown",
   "id": "2b5a536e",
   "metadata": {},
   "source": [
    "## Code Cells"
   ]
  },
  {
   "cell_type": "markdown",
   "id": "1d195190",
   "metadata": {},
   "source": [
    "You can run individual cells of code and any output they produce will be displayed right below them. This is useful for organizing your code into neat blocks."
   ]
  },
  {
   "cell_type": "code",
   "execution_count": 2,
   "id": "5a682675",
   "metadata": {},
   "outputs": [],
   "source": [
    "def greet():\n",
    "    print('Hello')"
   ]
  },
  {
   "cell_type": "code",
   "execution_count": 4,
   "id": "fb64ddf5",
   "metadata": {},
   "outputs": [],
   "source": [
    "def say_world():\n",
    "    print('World')"
   ]
  },
  {
   "cell_type": "code",
   "execution_count": 5,
   "id": "d8556858",
   "metadata": {
    "scrolled": true
   },
   "outputs": [
    {
     "name": "stdout",
     "output_type": "stream",
     "text": [
      "Hello\n",
      "World\n"
     ]
    }
   ],
   "source": [
    "greet()\n",
    "say_world()"
   ]
  },
  {
   "cell_type": "markdown",
   "id": "c76db650",
   "metadata": {},
   "source": [
    "---"
   ]
  },
  {
   "cell_type": "markdown",
   "id": "76f4e9ea",
   "metadata": {},
   "source": [
    "## Closing a notebook"
   ]
  },
  {
   "cell_type": "markdown",
   "id": "d6f6db3f",
   "metadata": {},
   "source": [
    "Simply closing the notebook browser tab, will not shut down the kernel. There are two ways to close a notebook and shutdown its kernel:\n",
    "1. Click on menu `File -> Close and Halt`\n",
    "2. Go to the Notebook Dashboard and click on the `Running` tab that shows all the running notebooks then click the shutdown button next to the kernel you want to shutdown"
   ]
  },
  {
   "cell_type": "markdown",
   "id": "be69e503",
   "metadata": {},
   "source": [
    "## Shutting Down Jupyter Notebook "
   ]
  },
  {
   "cell_type": "markdown",
   "id": "120d03b8",
   "metadata": {},
   "source": [
    "Simply closing the browser (or the tab) will not close the Jupyter Notebook App. To shut it down you have to close the terminal you initialized it in. This is usually done by pressing `Ctrl + C` and confirming exit of the app"
   ]
  }
 ],
 "metadata": {
  "kernelspec": {
   "display_name": "Python 3",
   "language": "python",
   "name": "python3"
  },
  "language_info": {
   "codemirror_mode": {
    "name": "ipython",
    "version": 3
   },
   "file_extension": ".py",
   "mimetype": "text/x-python",
   "name": "python",
   "nbconvert_exporter": "python",
   "pygments_lexer": "ipython3",
   "version": "3.6.9"
  }
 },
 "nbformat": 4,
 "nbformat_minor": 5
}

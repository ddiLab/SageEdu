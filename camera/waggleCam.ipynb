{
 "cells": [
  {
   "cell_type": "markdown",
   "id": "873643fd",
   "metadata": {},
   "source": [
    "# Using Waggle to Work with Camera"
   ]
  },
  {
   "cell_type": "markdown",
   "id": "9a80b11a",
   "metadata": {},
   "source": [
    "For more information on using Waggle see the <a href='https://github.com/waggle-sensor/pywaggle'>pywaggle GitHub</a>."
   ]
  },
  {
   "cell_type": "markdown",
   "id": "cf38ff6f",
   "metadata": {},
   "source": [
    "### Setup"
   ]
  },
  {
   "cell_type": "code",
   "execution_count": 42,
   "id": "fb79c307",
   "metadata": {},
   "outputs": [],
   "source": [
    "from waggle.data.vision import Camera\n",
    "import cv2\n",
    "import PIL.Image\n",
    "from io import BytesIO\n",
    "import IPython.display"
   ]
  },
  {
   "cell_type": "markdown",
   "id": "d6b2e97f",
   "metadata": {},
   "source": [
    "The first line imports the waggle code that will allow us to access the camera stream.\n",
    "The rest of the import statements are only used to display the images captured from the camera inside this notebook."
   ]
  },
  {
   "cell_type": "markdown",
   "id": "8d8fb432",
   "metadata": {},
   "source": [
    "### Helper Function"
   ]
  },
  {
   "cell_type": "markdown",
   "id": "4528dc93",
   "metadata": {},
   "source": [
    "This function takes the data in the form of an array coming from the camera and turns it into a jpeg image that can be displayed."
   ]
  },
  {
   "cell_type": "code",
   "execution_count": 43,
   "id": "388dd7ef",
   "metadata": {},
   "outputs": [],
   "source": [
    "#Use 'jpeg' instead of 'png' (~5 times faster)\n",
    "def array_to_image(a, fmt='jpeg'):\n",
    "    #Create binary stream object\n",
    "    f = BytesIO()\n",
    "    \n",
    "    #Convert array to binary stream object\n",
    "    PIL.Image.fromarray(a).save(f, fmt)\n",
    "    \n",
    "    return IPython.display.Image(data=f.getvalue())"
   ]
  },
  {
   "cell_type": "markdown",
   "id": "1b0aa48d",
   "metadata": {},
   "source": [
    "### Streaming"
   ]
  },
  {
   "cell_type": "markdown",
   "id": "71af8e89",
   "metadata": {},
   "source": [
    "Change the value of `username` to reflect the username of your camera.\n",
    "Change the value of `password` to reflect the password of your camera.\n",
    "Change the value of `camIP` to reflect the IP address of your camera.\n",
    "In order to stop the stream, hit the stop button at the top of the page to interupt the kernel."
   ]
  },
  {
   "cell_type": "code",
   "execution_count": null,
   "id": "0ed2d096",
   "metadata": {},
   "outputs": [],
   "source": [
    "username = 'admin'\n",
    "password = 'adminadmin!'\n",
    "camIP = \"10.42.0.69\"\n",
    "\n",
    "streamURL = 'rtsp://' + username + ':' + password + '@' + camIP + ':554/cam/realmonitor?channel=1&subtype=1'\n",
    "cam = Camera(streamURL)\n",
    "\n",
    "d = IPython.display.display(\"\", display_id=1)\n",
    "\n",
    "for sample in cam.stream():\n",
    "    frame = cv2.cvtColor(sample.data, cv2.COLOR_BGR2GRAY)\n",
    "    im = array_to_image(frame)\n",
    "        \n",
    "    d.update(im)"
   ]
  }
 ],
 "metadata": {
  "interpreter": {
   "hash": "31f2aee4e71d21fbe5cf8b01ff0e069b9275f58929596ceb00d14d90e3e16cd6"
  },
  "kernelspec": {
   "display_name": "Python 3",
   "language": "python",
   "name": "python3"
  },
  "language_info": {
   "codemirror_mode": {
    "name": "ipython",
    "version": 3
   },
   "file_extension": ".py",
   "mimetype": "text/x-python",
   "name": "python",
   "nbconvert_exporter": "python",
   "pygments_lexer": "ipython3",
   "version": "3.6.9"
  }
 },
 "nbformat": 4,
 "nbformat_minor": 5
}

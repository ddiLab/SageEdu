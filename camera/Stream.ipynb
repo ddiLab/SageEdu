{
 "cells": [
  {
   "cell_type": "markdown",
   "id": "9e4d91b5",
   "metadata": {},
   "source": [
    "# Streaming from Camera"
   ]
  },
  {
   "cell_type": "markdown",
   "id": "e5dd4c78",
   "metadata": {},
   "source": [
    "If there's an error at any point, check that the camera's IP address is the same."
   ]
  },
  {
   "cell_type": "markdown",
   "id": "48dbcac1",
   "metadata": {},
   "source": [
    "---"
   ]
  },
  {
   "cell_type": "markdown",
   "id": "9acef873",
   "metadata": {},
   "source": [
    "## General Setup"
   ]
  },
  {
   "cell_type": "markdown",
   "id": "15bfc73b",
   "metadata": {},
   "source": [
    "Change the values of `camIP`, `username`, and `pasword` to reflect the corresponding values of your camera.\n",
    "The default username and password for the camera is 'admin' and 'admin'.\n",
    "\n",
    "**If you don't know the camera's IP adress see the [Camera Setup Guide](https://github.com/ddiLab/SageEdu/blob/main/camera/setup.md).**"
   ]
  },
  {
   "cell_type": "code",
   "execution_count": 1,
   "id": "830cfcf9",
   "metadata": {},
   "outputs": [],
   "source": [
    "camIP = \"10.42.0.126\"\n",
    "username = 'admin'\n",
    "password = 'admin'\n",
    "streamURL = 'rtsp://' + username + ':' + password + '@' + camIP + ':554/cam/realmonitor?channel=1&subtype=1'"
   ]
  },
  {
   "cell_type": "markdown",
   "id": "2e13b293",
   "metadata": {},
   "source": [
    "---"
   ]
  },
  {
   "cell_type": "markdown",
   "id": "5e00c6a6",
   "metadata": {},
   "source": [
    "## Stream to Notebook\n",
    "The following code streams images from the camera and displays them within the notebook.\n",
    "This is particularly usefull for using the Nano headles! "
   ]
  },
  {
   "cell_type": "markdown",
   "id": "2a4a99f4",
   "metadata": {},
   "source": [
    "### Setup"
   ]
  },
  {
   "cell_type": "markdown",
   "id": "ef439b72",
   "metadata": {},
   "source": [
    "Import the required modules:"
   ]
  },
  {
   "cell_type": "code",
   "execution_count": 2,
   "id": "57cabd9c",
   "metadata": {},
   "outputs": [],
   "source": [
    "import cv2\n",
    "from IPython.display import clear_output\n",
    "import PIL.Image\n",
    "from io import BytesIO\n",
    "import IPython.display\n",
    "import numpy as np"
   ]
  },
  {
   "cell_type": "code",
   "execution_count": 3,
   "id": "064c4ffd",
   "metadata": {},
   "outputs": [],
   "source": [
    "cam = cv2.VideoCapture(streamURL)"
   ]
  },
  {
   "cell_type": "markdown",
   "id": "9a695687",
   "metadata": {},
   "source": [
    "### Helper Functions"
   ]
  },
  {
   "cell_type": "markdown",
   "id": "4bd60836",
   "metadata": {},
   "source": [
    "The `array_to_image()` function takes the data in the form of an array coming from the camera and turns it into a jpeg image that can be displayed."
   ]
  },
  {
   "cell_type": "code",
   "execution_count": 4,
   "id": "8c3adb9a",
   "metadata": {},
   "outputs": [],
   "source": [
    "def array_to_image(a, fmt='jpeg'):\n",
    "    # create binary stream object\n",
    "    f = BytesIO()\n",
    "    \n",
    "    # convert array to binary stream object\n",
    "    PIL.Image.fromarray(a).save(f, fmt)\n",
    "    \n",
    "    return IPython.display.Image(data=f.getvalue())"
   ]
  },
  {
   "cell_type": "markdown",
   "id": "fda94717",
   "metadata": {},
   "source": [
    "The `get_frame()` function gets the latest frame from the camera and transforms it for natural viewing."
   ]
  },
  {
   "cell_type": "code",
   "execution_count": 5,
   "id": "80c6bdd4",
   "metadata": {},
   "outputs": [],
   "source": [
    "def get_frame(cam):\n",
    "    # capture frame-by-frame\n",
    "    ret, frame = cam.read()\n",
    "    \n",
    "    # flip image for natural viewing\n",
    "    frame = cv2.flip(frame, 1)\n",
    "    \n",
    "    return frame"
   ]
  },
  {
   "cell_type": "markdown",
   "id": "feae35ca",
   "metadata": {},
   "source": [
    "### Streaming"
   ]
  },
  {
   "cell_type": "markdown",
   "id": "6e330f5c",
   "metadata": {},
   "source": [
    "In order to stop the stream, hit the stop button at the top of the page to interupt the kernel."
   ]
  },
  {
   "cell_type": "code",
   "execution_count": 6,
   "id": "4ed3da71",
   "metadata": {
    "scrolled": true
   },
   "outputs": [
    {
     "name": "stdout",
     "output_type": "stream",
     "text": [
      "Stream stopped\n"
     ]
    }
   ],
   "source": [
    "d = IPython.display.display(\"\", display_id=1)\n",
    "\n",
    "try:\n",
    "    while True:\n",
    "        frame = get_frame(cam)\n",
    "        frame = cv2.cvtColor(frame, cv2.COLOR_BGR2RGB)\n",
    "\n",
    "        im = array_to_image(frame)\n",
    "\n",
    "        d.update(im)\n",
    "                \n",
    "except KeyboardInterrupt:\n",
    "    print()\n",
    "    cam.release()\n",
    "    IPython.display.clear_output()\n",
    "    print (\"Stream stopped\")"
   ]
  },
  {
   "cell_type": "markdown",
   "id": "6eec2712",
   "metadata": {},
   "source": [
    "---"
   ]
  },
  {
   "cell_type": "markdown",
   "id": "c519d5ff",
   "metadata": {},
   "source": [
    "## Stream to external window\n",
    "\n",
    "**This method may cause errors for headless mode users!** \n",
    "\n",
    "The following code takes the stream of the camera and displays it in another window.  \n",
    "Note: If streaming to an external window the only required module is `cv2`."
   ]
  },
  {
   "cell_type": "markdown",
   "id": "9eef8209",
   "metadata": {},
   "source": [
    "### Setup"
   ]
  },
  {
   "cell_type": "code",
   "execution_count": 7,
   "id": "f05a8c03",
   "metadata": {},
   "outputs": [],
   "source": [
    "import cv2\n",
    "cam = cv2.VideoCapture(streamURL)"
   ]
  },
  {
   "cell_type": "markdown",
   "id": "f136723f",
   "metadata": {},
   "source": [
    "### Streaming"
   ]
  },
  {
   "cell_type": "code",
   "execution_count": 8,
   "id": "2c11606d",
   "metadata": {
    "scrolled": true
   },
   "outputs": [
    {
     "name": "stdout",
     "output_type": "stream",
     "text": [
      "Stream stopped\n"
     ]
    }
   ],
   "source": [
    "# set the dimensions of window\n",
    "width = 1000\n",
    "height = 1000\n",
    "dim = (width, height)\n",
    "\n",
    "while True:\n",
    "    ret, frame = cam.read()\n",
    "    \n",
    "    cv2.resize(frame, dim)\n",
    "    cv2.imshow(\"frames\", frame)\n",
    "    \n",
    "    # exit when camera error or keyboard press of 'q'\n",
    "    if cv2.waitKey(1) & 0xFF == ord('q'):\n",
    "        print(\"Stream stopped\")\n",
    "        break\n",
    "        \n",
    "cv2.destroyAllWindows() "
   ]
  }
 ],
 "metadata": {
  "kernelspec": {
   "display_name": "Python 3",
   "language": "python",
   "name": "python3"
  },
  "language_info": {
   "codemirror_mode": {
    "name": "ipython",
    "version": 3
   },
   "file_extension": ".py",
   "mimetype": "text/x-python",
   "name": "python",
   "nbconvert_exporter": "python",
   "pygments_lexer": "ipython3",
   "version": "3.6.9"
  }
 },
 "nbformat": 4,
 "nbformat_minor": 5
}

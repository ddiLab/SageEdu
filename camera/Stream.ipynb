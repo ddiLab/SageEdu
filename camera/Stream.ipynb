{
 "cells": [
  {
   "cell_type": "markdown",
   "id": "ec6380ad",
   "metadata": {},
   "source": [
    "# Streaming from camera"
   ]
  },
  {
   "cell_type": "markdown",
   "id": "1dd5f1db",
   "metadata": {},
   "source": [
    "### Show stream to current notebook\n",
    "The following code uses the data from a camera stream to output it to this notebook."
   ]
  },
  {
   "cell_type": "code",
   "execution_count": 1,
   "id": "02977b78",
   "metadata": {},
   "outputs": [],
   "source": [
    "# Import the required modules\n",
    "import cv2\n",
    "from IPython.display import clear_output\n",
    "import PIL.Image\n",
    "from io import BytesIO\n",
    "import IPython.display\n",
    "import numpy as np"
   ]
  },
  {
   "cell_type": "code",
   "execution_count": 2,
   "id": "494a8b7c",
   "metadata": {},
   "outputs": [],
   "source": [
    "#Use 'jpeg' instead of 'png' (~5 times faster)\n",
    "def array_to_image(a, fmt='jpeg'):\n",
    "    #Create binary stream object\n",
    "    f = BytesIO()\n",
    "    \n",
    "    #Convert array to binary stream object\n",
    "    PIL.Image.fromarray(a).save(f, fmt)\n",
    "    \n",
    "    return IPython.display.Image(data=f.getvalue())"
   ]
  },
  {
   "cell_type": "code",
   "execution_count": 3,
   "id": "4c77f113",
   "metadata": {},
   "outputs": [],
   "source": [
    "def get_frame(cam):\n",
    "    # Capture frame-by-frame\n",
    "    ret, frame = cam.read()\n",
    "    \n",
    "    #flip image for natural viewing\n",
    "    frame = cv2.flip(frame, 1)\n",
    "    \n",
    "    return frame"
   ]
  },
  {
   "cell_type": "markdown",
   "id": "279bd511",
   "metadata": {},
   "source": [
    "`Change the value of camIP` to reflect the IP address of your camera.  \n",
    "In order to stop the stream, hit the stop button at the top of the page to interupt the kernel."
   ]
  },
  {
   "cell_type": "code",
   "execution_count": 4,
   "id": "80770540",
   "metadata": {},
   "outputs": [
    {
     "name": "stdout",
     "output_type": "stream",
     "text": [
      "Stream stopped\n"
     ]
    }
   ],
   "source": [
    "camIP = \"10.42.0.126\"\n",
    "streamURL = 'rtsp://admin:admin@' + camIP + ':554/cam/realmonitor?channel=1&subtype=1'\n",
    "\n",
    "cam = cv2.VideoCapture(streamURL)\n",
    "\n",
    "d = IPython.display.display(\"\", display_id=1)\n",
    "\n",
    "while True:\n",
    "    try:\n",
    "        frame = get_frame(cam)\n",
    "        frame = cv2.cvtColor(frame, cv2.COLOR_BGR2RGB)\n",
    "        \n",
    "        im = array_to_image(frame)\n",
    "        \n",
    "        d.update(im)\n",
    "                \n",
    "    except KeyboardInterrupt:\n",
    "        print()\n",
    "        cam.release()\n",
    "        IPython.display.clear_output()\n",
    "        print (\"Stream stopped\")\n",
    "        break\n",
    "\n"
   ]
  },
  {
   "cell_type": "markdown",
   "id": "06ff91fa",
   "metadata": {},
   "source": [
    "### Stream to external window\n",
    "The following code takes the stream of the camera and show it in another window. It's important to note that this method may cause errors for headless mode users."
   ]
  },
  {
   "cell_type": "code",
   "execution_count": 5,
   "id": "28e89180",
   "metadata": {},
   "outputs": [],
   "source": [
    "import cv2"
   ]
  },
  {
   "cell_type": "code",
   "execution_count": 6,
   "id": "4b3855e1",
   "metadata": {},
   "outputs": [],
   "source": [
    "camIP = \"10.42.0.126\"\n",
    "streamURL = 'rtsp://admin:admin@' + camIP + ':554/cam/realmonitor?channel=1&subtype=1'\n",
    "width = 1000\n",
    "height = 1000\n",
    "dim = (width, height) # set the dimensions of window\n",
    "\n",
    "cam = cv2.VideoCapture(streamURL)\n",
    "\n",
    "while True:\n",
    "    ret, frame = cam.read()\n",
    "    \n",
    "    cv2.resize(frame, dim)\n",
    "    cv2.imshow(\"frames\", frame)\n",
    "    \n",
    "    if cv2.waitKey(1) & 0xFF == ord('q'): # exit when camera error or keyboard press of 'q'\n",
    "        break\n",
    "        \n",
    "cv2.destroyAllWindows() "
   ]
  }
 ],
 "metadata": {
  "kernelspec": {
   "display_name": "Python 3",
   "language": "python",
   "name": "python3"
  },
  "language_info": {
   "codemirror_mode": {
    "name": "ipython",
    "version": 3
   },
   "file_extension": ".py",
   "mimetype": "text/x-python",
   "name": "python",
   "nbconvert_exporter": "python",
   "pygments_lexer": "ipython3",
   "version": "3.6.9"
  }
 },
 "nbformat": 4,
 "nbformat_minor": 5
}

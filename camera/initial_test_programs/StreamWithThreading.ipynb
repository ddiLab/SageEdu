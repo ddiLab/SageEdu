{
 "cells": [
  {
   "cell_type": "markdown",
   "id": "d76fe0ad",
   "metadata": {},
   "source": [
    "# Streaming using threads\n",
    "This notebook utilizes the code from `ThreadedStream.py` to capture frames using a thread, and those frames are used here to display on a window. This approach arose as a method of increasing the FPS of the camera stream, and it did increase it by a little. Changing the streaming platform from main to substream (changing the value of `subtype=0` to `subtype=1`), you will notice a change in quality and FPS."
   ]
  },
  {
   "cell_type": "code",
   "execution_count": 1,
   "id": "3c69fb74",
   "metadata": {},
   "outputs": [],
   "source": [
    "import ThreadedStream\n",
    "import cv2"
   ]
  },
  {
   "cell_type": "code",
   "execution_count": 2,
   "id": "d63149d9",
   "metadata": {},
   "outputs": [
    {
     "name": "stdout",
     "output_type": "stream",
     "text": [
      "Threaded frames from webcam...\n"
     ]
    }
   ],
   "source": [
    "print(\"Threaded frames from webcam...\")\n",
    "username = 'admin'\n",
    "password = 'admin'\n",
    "ip_address = '10.42.0.126'\n",
    "\n",
    "vs = ThreadedStream.ThreadedStream(src='rtsp://' + username + ':' + password + '@' + ip_address + \n",
    "                                   '/cam/realmonitor?channel=1&subtype=1').start()\n",
    "\n",
    "while True:\n",
    "    frame = vs.read()\n",
    "    width = 800\n",
    "    height = 800\n",
    "    dim = (width, height)\n",
    "    cv2.resize(frame, dim)\n",
    "    cv2.imshow(\"frame\", frame)\n",
    "    \n",
    "    if cv2.waitKey(1) & 0xFF == ord('q'): # press 'q' on keyboard to exit\n",
    "        break;\n",
    "\n",
    "cv2.destroyAllWindows()"
   ]
  },
  {
   "cell_type": "code",
   "execution_count": null,
   "id": "41006d52",
   "metadata": {},
   "outputs": [],
   "source": []
  }
 ],
 "metadata": {
  "kernelspec": {
   "display_name": "Python 3",
   "language": "python",
   "name": "python3"
  },
  "language_info": {
   "codemirror_mode": {
    "name": "ipython",
    "version": 3
   },
   "file_extension": ".py",
   "mimetype": "text/x-python",
   "name": "python",
   "nbconvert_exporter": "python",
   "pygments_lexer": "ipython3",
   "version": "3.6.9"
  }
 },
 "nbformat": 4,
 "nbformat_minor": 5
}

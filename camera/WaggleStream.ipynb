{
 "cells": [
  {
   "cell_type": "markdown",
   "id": "873643fd",
   "metadata": {},
   "source": [
    "# Using Waggle to Stream from Camera"
   ]
  },
  {
   "cell_type": "markdown",
   "id": "69d91249",
   "metadata": {},
   "source": [
    "If there's an error at any point, check that the camera's IP address is the same."
   ]
  },
  {
   "cell_type": "markdown",
   "id": "d0e5b1fe",
   "metadata": {},
   "source": [
    "---"
   ]
  },
  {
   "cell_type": "markdown",
   "id": "25032077",
   "metadata": {},
   "source": [
    "## General Setup"
   ]
  },
  {
   "cell_type": "markdown",
   "id": "a7d07561",
   "metadata": {},
   "source": [
    "Change the values of `camIP`, `username`, and `pasword` to reflect the corresponding values of your camera.\n",
    "The default username and password for the camera is 'admin' and 'admin'.\n",
    "\n",
    "**If you don't know the camera's IP adress see the [Camera Setup Guide](https://github.com/ddiLab/SageEdu/blob/main/camera/setup.md).**"
   ]
  },
  {
   "cell_type": "code",
   "execution_count": 1,
   "id": "e60421f3",
   "metadata": {},
   "outputs": [],
   "source": [
    "username = 'admin'\n",
    "password = 'admin'\n",
    "camIP = \"10.42.0.126\"\n",
    "\n",
    "streamURL = 'rtsp://' + username + ':' + password + '@' + camIP + ':554/cam/realmonitor?channel=1&subtype=1'"
   ]
  },
  {
   "cell_type": "markdown",
   "id": "c3505cfc",
   "metadata": {},
   "source": [
    "---"
   ]
  },
  {
   "cell_type": "markdown",
   "id": "ab8c10d9",
   "metadata": {},
   "source": [
    "## Stream to Notebook"
   ]
  },
  {
   "cell_type": "markdown",
   "id": "cf38ff6f",
   "metadata": {},
   "source": [
    "### Setup"
   ]
  },
  {
   "cell_type": "code",
   "execution_count": 2,
   "id": "fb79c307",
   "metadata": {},
   "outputs": [
    {
     "name": "stderr",
     "output_type": "stream",
     "text": [
      "using backwards compatible implementation of time_ns\n"
     ]
    }
   ],
   "source": [
    "from waggle.data.vision import Camera, BGR\n",
    "import cv2\n",
    "import PIL.Image\n",
    "from io import BytesIO\n",
    "import IPython.display"
   ]
  },
  {
   "cell_type": "markdown",
   "id": "d6b2e97f",
   "metadata": {},
   "source": [
    "The first line imports the waggle code that will allow us to access the camera stream.\n",
    "The rest of the import statements are only used to display the images captured from the camera inside this notebook."
   ]
  },
  {
   "cell_type": "markdown",
   "id": "8d8fb432",
   "metadata": {},
   "source": [
    "### Helper Function"
   ]
  },
  {
   "cell_type": "markdown",
   "id": "4528dc93",
   "metadata": {},
   "source": [
    "This function takes the data in the form of an array coming from the camera and turns it into a jpeg image that can be displayed."
   ]
  },
  {
   "cell_type": "code",
   "execution_count": 3,
   "id": "388dd7ef",
   "metadata": {},
   "outputs": [],
   "source": [
    "def array_to_image(a, fmt='jpeg'):\n",
    "    # create binary stream object\n",
    "    f = BytesIO()\n",
    "    \n",
    "    # convert array to binary stream object\n",
    "    PIL.Image.fromarray(a).save(f, fmt)\n",
    "    \n",
    "    return IPython.display.Image(data=f.getvalue())"
   ]
  },
  {
   "cell_type": "markdown",
   "id": "1b0aa48d",
   "metadata": {},
   "source": [
    "### Streaming"
   ]
  },
  {
   "cell_type": "markdown",
   "id": "71af8e89",
   "metadata": {},
   "source": [
    "In order to stop the stream, hit the stop button at the top of the page to interupt the kernel."
   ]
  },
  {
   "cell_type": "code",
   "execution_count": 4,
   "id": "0ed2d096",
   "metadata": {},
   "outputs": [
    {
     "name": "stdout",
     "output_type": "stream",
     "text": [
      "Stream stopped\n"
     ]
    }
   ],
   "source": [
    "cam = Camera(streamURL, format=BGR)\n",
    "\n",
    "d = IPython.display.display(\"\", display_id=1)\n",
    "\n",
    "try: \n",
    "    for sample in cam.stream():\n",
    "        frame = cv2.cvtColor(sample.data, cv2.COLOR_BGR2RGB)\n",
    "        im = array_to_image(frame)\n",
    "        d.update(im)\n",
    "\n",
    "except KeyboardInterrupt:\n",
    "    IPython.display.clear_output()\n",
    "    print (\"Stream stopped\")"
   ]
  },
  {
   "cell_type": "markdown",
   "id": "9cc0dff8",
   "metadata": {},
   "source": [
    "---"
   ]
  },
  {
   "cell_type": "markdown",
   "id": "1c4a9a7e",
   "metadata": {},
   "source": [
    "## Streaming to External Window"
   ]
  },
  {
   "cell_type": "markdown",
   "id": "c0ab8f37",
   "metadata": {},
   "source": [
    "### Setup"
   ]
  },
  {
   "cell_type": "code",
   "execution_count": 5,
   "id": "b11f2fdf",
   "metadata": {},
   "outputs": [],
   "source": [
    "from waggle.data.vision import Camera, BGR\n",
    "import cv2"
   ]
  },
  {
   "cell_type": "markdown",
   "id": "895ade42",
   "metadata": {},
   "source": [
    "The following code is very similar to the one above, but it streams the camera feed to a seperate window. This is important to note because with headless mode, a seperate window stream may cause errors. The code below also shows extra functionality of capturing video with `Camera` from `waggle.data.vision`"
   ]
  },
  {
   "cell_type": "markdown",
   "id": "3f93719f",
   "metadata": {},
   "source": [
    "### Streaming"
   ]
  },
  {
   "cell_type": "code",
   "execution_count": 6,
   "id": "4e67754d",
   "metadata": {},
   "outputs": [
    {
     "name": "stdout",
     "output_type": "stream",
     "text": [
      "Stream stopped\n"
     ]
    }
   ],
   "source": [
    "width = 10\n",
    "height = 10\n",
    "dim = (width, height)\n",
    "\n",
    "cam = Camera(streamURL, format=BGR)\n",
    "\n",
    "for sample in cam.stream():\n",
    "    \"\"\"\n",
    "    # you can access data associated with each instance of sample, and also save a snapshot of an image\n",
    "    \n",
    "    print(\"Stream Data:\", sample.data)\n",
    "    print(\"Stream Timestamp:\", sample.timestamp)\n",
    "    print(\"Stream Format:\", sample.format)\n",
    "    # stream.save(\"filename.ogg\")\n",
    "    \"\"\"\n",
    "    \n",
    "    cv2.resize(sample.data, dim)\n",
    "    cv2.imshow('frame', sample.data)\n",
    "\n",
    "    if cv2.waitKey(1) & 0xFF == ord('q'):\n",
    "        print(\"Stream stopped\")\n",
    "        break\n",
    "    \n",
    "cv2.destroyAllWindows() "
   ]
  }
 ],
 "metadata": {
  "interpreter": {
   "hash": "31f2aee4e71d21fbe5cf8b01ff0e069b9275f58929596ceb00d14d90e3e16cd6"
  },
  "kernelspec": {
   "display_name": "Python 3",
   "language": "python",
   "name": "python3"
  },
  "language_info": {
   "codemirror_mode": {
    "name": "ipython",
    "version": 3
   },
   "file_extension": ".py",
   "mimetype": "text/x-python",
   "name": "python",
   "nbconvert_exporter": "python",
   "pygments_lexer": "ipython3",
   "version": "3.6.9"
  }
 },
 "nbformat": 4,
 "nbformat_minor": 5
}
